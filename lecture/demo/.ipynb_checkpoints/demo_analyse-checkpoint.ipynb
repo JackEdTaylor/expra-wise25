{
 "cells": [
  {
   "cell_type": "markdown",
   "metadata": {},
   "source": [
    "# Analysis"
   ]
  },
  {
   "cell_type": "markdown",
   "metadata": {},
   "source": [
    "The main thing we'll go through today is analysis of the Demo Experiment data. We have data from 14 participants who completed the German version of the experiment.\n",
    "\n",
    "**Before we can start:**\n",
    "\n",
    "**a**) [Download the data](demo_data.zip) as a `.zip` file.\n",
    "\n",
    "**b**) Extract the data from the `.zip` file to a folder that makes sense for you. The data should be stored in that location in a folder called `data`.\n",
    "\n",
    "**c**) Start a new R script in RStudio.\n",
    "\n",
    "Once everyone has completed these steps, we'll begin..."
   ]
  },
  {
   "cell_type": "markdown",
   "metadata": {},
   "source": [
    "## 1: Load the Relevant Libraries\n",
    "\n",
    "These are the libraries we'll use for the analysis. Each library has a comment explaining what we will use it for."
   ]
  },
  {
   "cell_type": "code",
   "execution_count": null,
   "metadata": {
    "vscode": {
     "languageId": "r"
    }
   },
   "outputs": [],
   "source": [
    "library(readr)    # for reading the data into R\n",
    "library(purrr)    # for easily importing multiple files\n",
    "library(dplyr)    # for wrangling data (e.g., adding/renaming columns)\n",
    "library(tidyr)    # for switching between long and wide formats of data\n",
    "library(ordinal)  # for fitting CLMMs\n",
    "library(lme4)     # for fitting LMMs\n",
    "\n",
    "library(ggplot2)  # for visualising data\n",
    "theme_set(theme_bw())"
   ]
  },
  {
   "cell_type": "markdown",
   "metadata": {},
   "source": [
    "## 2: Import the Data\n",
    "\n",
    "Let's import the data extracted from the `.zip` folder:"
   ]
  },
  {
   "cell_type": "code",
   "execution_count": null,
   "metadata": {
    "vscode": {
     "languageId": "r"
    }
   },
   "outputs": [],
   "source": [
    "# first, get a list of paths to all .csv data files\n",
    "data_paths <- list.files(\"data\", pattern=\".*\\\\.csv$\", full.names=TRUE)\n",
    "\n",
    "# now, iterate over these with `read_csv()` to import them\n",
    "# (note: col_types just says that we want these two columns to be stored as text, not numbers)\n",
    "raw_data <- map_df(data_paths, read_csv, col_types=c(participant=\"c\", frameRate=\"c\"))"
   ]
  },
  {
   "cell_type": "markdown",
   "metadata": {},
   "source": [
    "Let's have a look at the first few rows of the data, with `print()`"
   ]
  },
  {
   "cell_type": "code",
   "execution_count": null,
   "metadata": {
    "vscode": {
     "languageId": "r"
    }
   },
   "outputs": [],
   "source": [
    "print(raw_data)"
   ]
  }
 ],
 "metadata": {
  "kernelspec": {
   "display_name": "python",
   "language": "python",
   "name": "python3"
  },
  "language_info": {
   "codemirror_mode": {
    "name": "ipython",
    "version": 3
   },
   "file_extension": ".py",
   "mimetype": "text/x-python",
   "name": "python",
   "nbconvert_exporter": "python",
   "pygments_lexer": "ipython3",
   "version": "3.11.3"
  },
  "orig_nbformat": 4
 },
 "nbformat": 4,
 "nbformat_minor": 2
}
