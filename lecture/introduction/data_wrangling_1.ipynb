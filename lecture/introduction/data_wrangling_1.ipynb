{
 "cells": [
  {
   "cell_type": "markdown",
   "id": "34e9fb44",
   "metadata": {},
   "source": [
    "# Data Wrangling 1\n",
    "\n",
    "<h5>\n",
    "\n",
    "**Wrangling** /ˈræŋ.ɡəl.ɪŋ/\n",
    "\n",
    "the activity of taking care of, controlling, or moving animals, especially large animals such as cows or horses\n",
    "\n",
    "</h5>\n",
    "\n",
    "([Cambridge Dictionary](https://dictionary.cambridge.org/dictionary/english/wrangling))\n",
    "\n",
    "![Cattle Wrangler - image from https://commons.wikimedia.org/wiki/File:Pioneer_Day_Wrangler.jpg](https://upload.wikimedia.org/wikipedia/commons/thumb/8/83/Pioneer_Day_Wrangler.jpg/320px-Pioneer_Day_Wrangler.jpg)\n",
    "\n",
    "**[Data wrangling](https://en.wikipedia.org/wiki/Data_wrangling)** commonly refers to the transformation of data from one \"input\" format (e.g., `.csv` files from an experiment), to a different format (e.g., a tidy dataframe) that is more appropriate to the needs of an analysis. In the context of the ExPra experiments, you will use data wrangling techniques to implement the transformations and data cleaning steps specified in your preregistrations.\n",
    "\n",
    "We will use [`tidyverse`](https://www.tidyverse.org/) packages to implement our data wrangling. The \"tidyverse\" is a series of packages which share a philosphy based around code and data structures (e.g., \"[tibbles](https://tibble.tidyverse.org/)\") that are (a) tidy, and (b) readable.\n",
    "\n",
    "The most useful tidyverse packages for wrangling data are `dplyr` and `tidyr`. The [`dplyr`](https://dplyr.tidyverse.org/) package has useful functions for manipulating tibbles (dataframes), such as sorting, filtering, and editing columns. The [`tidyr`](https://tidyr.tidyverse.org/) package has functions that help us tidy or reformat dataframes.\n",
    "\n",
    "<img src=\"https://www.tidyverse.org/css/images/hex/dplyr.png\" width=138>\n",
    "<img src=\"https://www.tidyverse.org/css/images/hex/tidyr.png\" width=138>\n",
    "\n",
    "<br>\n",
    "\n",
    "In this session, we will cover how to use 6 very handy functions from `dplyr` package:\n",
    "\n",
    "* [`arrange()`](#arrange)\n",
    "* [`filter()`](#filter)\n",
    "* [`select()`](#select)\n",
    "* [`pull()`](#pull)\n",
    "* [`mutate()`](#mutate)\n",
    "* [`summarise()`](#summarise)\n",
    "\n",
    "## Setup\n",
    "\n",
    "### Setup Part 1: Install Packages\n",
    "\n",
    "````{margin}\n",
    "```{warning}\n",
    "Remember, you should install packages in the console - never in a script that your share with others. This is because otherwise, your script will go to the effort of reinstalling a package *every time* it is run!\n",
    "````\n",
    "\n",
    "You can install the tidyverse packages like so:\n",
    "\n",
    "```\n",
    "install.packages(\"tidyverse\")\n",
    "```\n",
    "\n",
    "This includes many packages that we won't be using today, but which will be useful in other parts of the course (e.g., we will use `ggplot2` for Data Visualisation).\n",
    "\n",
    "### Setup Part 2: Check `dplyr` Loads\n",
    "\n",
    "Now, we can test that the package we will be using today actually loads. You should be able to run this code without any errors:"
   ]
  },
  {
   "cell_type": "code",
   "execution_count": null,
   "id": "8d6a0e92",
   "metadata": {
    "tags": [
     "remove-input"
    ],
    "vscode": {
     "languageId": "r"
    }
   },
   "outputs": [],
   "source": [
    "options(repr.plot.width=3.5, repr.plot.height=3, repr.matrix.max.rows=10)"
   ]
  },
  {
   "cell_type": "code",
   "execution_count": null,
   "id": "165b6408",
   "metadata": {
    "tags": [
     "remove-output"
    ],
    "vscode": {
     "languageId": "r"
    }
   },
   "outputs": [],
   "source": [
    "library(dplyr)"
   ]
  },
  {
   "cell_type": "markdown",
   "id": "e1da8f7c-308f-4217-9192-9bfc1191ff0e",
   "metadata": {},
   "source": [
    "### Setup Part 3: Check the Data Loads\n",
    "\n",
    "Finally, check that you can access the dataset we'll be using in this session. The `starwars` dataset is a dataset built into `dplyr` that contains details of characters from the Star Wars films:"
   ]
  },
  {
   "cell_type": "code",
   "execution_count": null,
   "id": "f0b8ba46-98b5-45f1-83e3-cfaad7b2206d",
   "metadata": {
    "vscode": {
     "languageId": "r"
    }
   },
   "outputs": [],
   "source": [
    "print(starwars)"
   ]
  },
  {
   "cell_type": "markdown",
   "id": "0183fe00-4c0e-4a26-8bd7-a439e818fe27",
   "metadata": {},
   "source": [
    "This snapshot shows an example of tidy data - a philosophy of organising data such that each observation (*character*) has a single row, with all variables tied to that character as a single column.\n",
    "\n",
    "Now that we're all set up, let's start a-wrangling...\n",
    "\n",
    "---\n",
    "\n",
    "## `arrange()`\n",
    "\n",
    "We can use the `arrange()` function to sort by variables in the dataframe.\n",
    "\n",
    "### Numeric Variables\n",
    "\n",
    "For example, we can arrange all characters in order of height (shortest to tallest) like so:"
   ]
  },
  {
   "cell_type": "code",
   "execution_count": null,
   "id": "77ff073a-20a0-47a4-a618-5735a2ca9655",
   "metadata": {
    "tags": [
     "remove-output"
    ],
    "vscode": {
     "languageId": "r"
    }
   },
   "outputs": [],
   "source": [
    "arrange(starwars, height)"
   ]
  },
  {
   "cell_type": "code",
   "execution_count": null,
   "id": "c592a624",
   "metadata": {
    "tags": [
     "remove-input"
    ],
    "vscode": {
     "languageId": "r"
    }
   },
   "outputs": [],
   "source": [
    "arrange(starwars, height) |> print()"
   ]
  },
  {
   "cell_type": "markdown",
   "id": "9031f602-7bdd-4410-9ad1-3a38ce76e461",
   "metadata": {},
   "source": [
    "The `arrange()` function, like most `dplyr` verb functions, takes the dataframe (`starwars`) as its first argument, and the variable names (e.g., `height`) as subsequent arguments.\n",
    "\n",
    "In height order, we can see that Yoda is the shortest character, at 66 cm, with podracer [Ratts Tyerell](https://starwars.fandom.com/wiki/Ratts_Tyerell) next shortest, at 79 cm.\n",
    "\n",
    "<br><br>\n",
    "We can also arrange the dataframe in *descending* order, with the *`desc()`* function."
   ]
  },
  {
   "cell_type": "code",
   "execution_count": null,
   "metadata": {
    "tags": [
     "remove-output"
    ],
    "vscode": {
     "languageId": "r"
    }
   },
   "outputs": [],
   "source": [
    "arrange(starwars, desc(height))"
   ]
  },
  {
   "cell_type": "code",
   "execution_count": null,
   "metadata": {
    "tags": [
     "remove-input"
    ],
    "vscode": {
     "languageId": "r"
    }
   },
   "outputs": [],
   "source": [
    "arrange(starwars, desc(height)) |> print()"
   ]
  },
  {
   "cell_type": "markdown",
   "metadata": {},
   "source": [
    "This shows us that long-necked Jedi, [Yarael Poof](https://starwars.fandom.com/wiki/Yarael_Poof), is the tallest character, at 264 cm.\n",
    "\n",
    "<br>\n",
    "\n",
    "### Character Variables\n",
    "\n",
    "As well as sorting by numeric variables, we can also sort by character variables. For instance, we can sort by hair colour. If we do this we will sort hair alphabetically, from \"auburn\" to \"white\"."
   ]
  },
  {
   "cell_type": "code",
   "execution_count": null,
   "metadata": {
    "tags": [
     "remove-output"
    ],
    "vscode": {
     "languageId": "r"
    }
   },
   "outputs": [],
   "source": [
    "arrange(starwars, hair_color)"
   ]
  },
  {
   "cell_type": "code",
   "execution_count": null,
   "metadata": {
    "tags": [
     "remove-input"
    ],
    "vscode": {
     "languageId": "r"
    }
   },
   "outputs": [],
   "source": [
    "arrange(starwars, hair_color) |> print()"
   ]
  },
  {
   "cell_type": "markdown",
   "metadata": {},
   "source": [
    "<br>\n",
    "\n",
    "### Combining Statements\n",
    "\n",
    "Finally, we can sort by multiple variables at once with comma-separated statements. For instance, we may want to sort by hair colour alphabetically, and then by height descendingly:"
   ]
  },
  {
   "cell_type": "code",
   "execution_count": null,
   "metadata": {
    "tags": [
     "remove-output"
    ],
    "vscode": {
     "languageId": "r"
    }
   },
   "outputs": [],
   "source": [
    "arrange(starwars, hair_color, desc(height))"
   ]
  },
  {
   "cell_type": "code",
   "execution_count": null,
   "metadata": {
    "tags": [
     "remove-input"
    ],
    "vscode": {
     "languageId": "r"
    }
   },
   "outputs": [],
   "source": [
    "arrange(starwars, hair_color, desc(height)) |> print()"
   ]
  },
  {
   "cell_type": "markdown",
   "metadata": {},
   "source": [
    "<br>\n",
    "\n",
    "### Check your Knowledge!\n",
    "\n",
    "Try coming up with code to solve the following:\n",
    "\n",
    "1. Sort descendingly by mass, such that the most massive character comes first.\n",
    "\n",
    "2. Sort by gender, eye colour, and then height. Which character is the first observation? Why?\n",
    "\n",
    "<br>"
   ]
  },
  {
   "cell_type": "markdown",
   "metadata": {},
   "source": [
    "<br>\n",
    "\n",
    "---\n",
    "\n",
    "## `filter()`\n",
    "\n",
    "The `filter()` function is useful for subsetting rows of data.\n",
    "\n",
    "### Character Variables\n",
    "\n",
    "For example, we can easily filter our dataset to find all our data on Darth Vader. The following code says that we should *filter* the dataframe called *starwars* to only include rows where the variable called `name` has the value `\"Darth Vader\"`:"
   ]
  },
  {
   "cell_type": "code",
   "execution_count": null,
   "metadata": {
    "tags": [
     "remove-output"
    ],
    "vscode": {
     "languageId": "r"
    }
   },
   "outputs": [],
   "source": [
    "filter(starwars, name==\"Darth Vader\")"
   ]
  },
  {
   "cell_type": "code",
   "execution_count": null,
   "metadata": {
    "tags": [
     "remove-input"
    ],
    "vscode": {
     "languageId": "r"
    }
   },
   "outputs": [],
   "source": [
    "filter(starwars, name==\"Darth Vader\") |> print()"
   ]
  },
  {
   "cell_type": "markdown",
   "metadata": {},
   "source": [
    "<img src=\"https://media1.giphy.com/media/Uu4WP50jNo1uZeor4t/giphy.gif\" width=250>\n",
    "\n",
    "<sub><sup>[via giphy](https://media.giphy.com/media/Uu4WP50jNo1uZeor4t/giphy.gif)</sup></sub>\n",
    "\n",
    "<br><br>\n",
    "To find all characters that are *not* Darth Vader, we can use `!=`, which stands for \"does not equal.\" This returns all rows in the dataframe where the `name` column does not have the value `\"Darth Vader\"`."
   ]
  },
  {
   "cell_type": "code",
   "execution_count": null,
   "metadata": {
    "tags": [
     "remove-output"
    ],
    "vscode": {
     "languageId": "r"
    }
   },
   "outputs": [],
   "source": [
    "filter(starwars, name!=\"Darth Vader\")"
   ]
  },
  {
   "cell_type": "code",
   "execution_count": null,
   "metadata": {
    "tags": [
     "remove-input"
    ],
    "vscode": {
     "languageId": "r"
    }
   },
   "outputs": [],
   "source": [
    "filter(starwars, name!=\"Darth Vader\") |> print()"
   ]
  },
  {
   "cell_type": "markdown",
   "metadata": {},
   "source": [
    "\n",
    "<br><br>\n",
    "We can also filter to include a list of characters. To do this, we first define a character vector of characters we wish to keep. We can then filter to only include characters whose `name` is in (`%in%`) that vector:"
   ]
  },
  {
   "cell_type": "code",
   "execution_count": null,
   "metadata": {
    "tags": [
     "remove-output"
    ],
    "vscode": {
     "languageId": "r"
    }
   },
   "outputs": [],
   "source": [
    "cool_droids <- c(\"C-3PO\", \"R2-D2\", \"IG-88\")\n",
    "filter(starwars, name %in% cool_droids)"
   ]
  },
  {
   "cell_type": "code",
   "execution_count": null,
   "metadata": {
    "tags": [
     "remove-input"
    ],
    "vscode": {
     "languageId": "r"
    }
   },
   "outputs": [],
   "source": [
    "filter(starwars, name %in% cool_droids) |> print()"
   ]
  },
  {
   "cell_type": "markdown",
   "metadata": {},
   "source": [
    "\n",
    "<br><br>\n",
    "As with `==` and `!=`, we can invert `%in%` to only include characters who are *not* in the list. To do this, we put an exclamation mark (`!`) at the *start* of the statement:"
   ]
  },
  {
   "cell_type": "code",
   "execution_count": null,
   "metadata": {
    "tags": [
     "remove-output"
    ],
    "vscode": {
     "languageId": "r"
    }
   },
   "outputs": [],
   "source": [
    "filter(starwars, !(name %in% cool_droids))"
   ]
  },
  {
   "cell_type": "code",
   "execution_count": null,
   "metadata": {
    "tags": [
     "remove-input"
    ],
    "vscode": {
     "languageId": "r"
    }
   },
   "outputs": [],
   "source": [
    "filter(starwars, !(name %in% cool_droids)) |> print()"
   ]
  },
  {
   "cell_type": "markdown",
   "metadata": {},
   "source": [
    "<br>\n",
    "\n",
    "### Numeric Variables\n",
    "\n",
    "The `filter()` function can also deal with numeric values. For instance, we can filter to only include characters who are shorter than, or are exactly, 96 cm tall. To do this we use `<=`, which stands for \"less than or equal to\", or \"≤\"."
   ]
  },
  {
   "cell_type": "code",
   "execution_count": null,
   "metadata": {
    "tags": [
     "remove-output"
    ],
    "vscode": {
     "languageId": "r"
    }
   },
   "outputs": [],
   "source": [
    "filter(starwars, height<=96)"
   ]
  },
  {
   "cell_type": "code",
   "execution_count": null,
   "metadata": {
    "tags": [
     "remove-input"
    ],
    "vscode": {
     "languageId": "r"
    }
   },
   "outputs": [],
   "source": [
    "filter(starwars, height<=96) |> print()"
   ]
  },
  {
   "cell_type": "markdown",
   "metadata": {},
   "source": [
    "<br>\n",
    "\n",
    "### Combining Statements\n",
    "\n",
    "Finally, as in other `dplyr` functions, we can combine multiple comma-separated statements in one use of the `filter()` function. Here we filter to only include characters who:\n",
    "* come from Tatooine\n",
    "* are at least 100 cm tall\n",
    "* are human"
   ]
  },
  {
   "cell_type": "code",
   "execution_count": null,
   "metadata": {
    "tags": [
     "remove-output"
    ],
    "vscode": {
     "languageId": "r"
    }
   },
   "outputs": [],
   "source": [
    "filter(starwars, homeworld==\"Tatooine\", height>=100, species==\"Human\")"
   ]
  },
  {
   "cell_type": "code",
   "execution_count": null,
   "metadata": {
    "tags": [
     "remove-input"
    ],
    "vscode": {
     "languageId": "r"
    }
   },
   "outputs": [],
   "source": [
    "filter(starwars, homeworld==\"Tatooine\", height>=100, species==\"Human\") |> print()"
   ]
  },
  {
   "cell_type": "markdown",
   "metadata": {},
   "source": [
    "<br>\n",
    "\n",
    "### Check your Knowledge!\n",
    "\n",
    "Try coming up with code to solve the following:\n",
    "\n",
    "1. Exclude any characters who come from Tatooine, Zolan, or Naboo.\n",
    "\n",
    "2. Filter to only include female characters who are between 160 and 200 cm.\n"
   ]
  },
  {
   "cell_type": "markdown",
   "metadata": {},
   "source": [
    "<br>\n",
    "\n",
    "---\n",
    "\n",
    "## `select()`\n",
    "\n",
    "The `select()` function is useful for subsetting *columns*.\n",
    "\n",
    "### Selecting Specific Columns\n",
    "\n",
    "For instance, if we only want to select the `name` and `height` columns, we can do this like so:"
   ]
  },
  {
   "cell_type": "code",
   "execution_count": null,
   "metadata": {
    "tags": [
     "remove-output"
    ],
    "vscode": {
     "languageId": "r"
    }
   },
   "outputs": [],
   "source": [
    "select(starwars, name, height)"
   ]
  },
  {
   "cell_type": "code",
   "execution_count": null,
   "metadata": {
    "tags": [
     "remove-input"
    ],
    "vscode": {
     "languageId": "r"
    }
   },
   "outputs": [],
   "source": [
    "select(starwars, name, height) |> print()"
   ]
  },
  {
   "cell_type": "markdown",
   "metadata": {},
   "source": [
    "<br><br>\n",
    "\n",
    "To include all columns *except* a given column, we can use the exclamation mark (`!`) or a minus (`-`)."
   ]
  },
  {
   "cell_type": "code",
   "execution_count": null,
   "metadata": {
    "tags": [
     "remove-output"
    ],
    "vscode": {
     "languageId": "r"
    }
   },
   "outputs": [],
   "source": [
    "select(starwars, !height)"
   ]
  },
  {
   "cell_type": "code",
   "execution_count": null,
   "metadata": {
    "tags": [
     "remove-input"
    ],
    "vscode": {
     "languageId": "r"
    }
   },
   "outputs": [],
   "source": [
    "select(starwars, !height) |> print()"
   ]
  },
  {
   "cell_type": "markdown",
   "metadata": {},
   "source": [
    "<br>\n",
    "\n",
    "### Reordering Columns\n",
    "\n",
    "When we use `select()`, we can also specify the order of columns. For instance, we can select the columns `name`, `gender`, and `homeworld` in a new order."
   ]
  },
  {
   "cell_type": "code",
   "execution_count": null,
   "metadata": {
    "tags": [
     "remove-output"
    ],
    "vscode": {
     "languageId": "r"
    }
   },
   "outputs": [],
   "source": [
    "select(starwars, homeworld, name, gender)"
   ]
  },
  {
   "cell_type": "code",
   "execution_count": null,
   "metadata": {
    "tags": [
     "remove-input"
    ],
    "vscode": {
     "languageId": "r"
    }
   },
   "outputs": [],
   "source": [
    "select(starwars, homeworld, name, gender) |> print()"
   ]
  },
  {
   "cell_type": "markdown",
   "metadata": {},
   "source": [
    "<br>\n",
    "\n",
    "### Selecting a Range of Columns\n",
    "\n",
    "We can say that we want to select variables in a range (e.g., from `name` until `hair_color`) with a colon (`:`)."
   ]
  },
  {
   "cell_type": "code",
   "execution_count": null,
   "metadata": {
    "tags": [
     "remove-output"
    ],
    "vscode": {
     "languageId": "r"
    }
   },
   "outputs": [],
   "source": [
    "select(starwars, name:hair_color)"
   ]
  },
  {
   "cell_type": "code",
   "execution_count": null,
   "metadata": {
    "tags": [
     "remove-input"
    ],
    "vscode": {
     "languageId": "r"
    }
   },
   "outputs": [],
   "source": [
    "select(starwars, name:hair_color) |> print()"
   ]
  },
  {
   "cell_type": "markdown",
   "metadata": {},
   "source": [
    "<br>\n",
    "\n",
    "### Selection Helpers\n",
    "\n",
    "The tidyverse also supports a range of [selection helpers](https://dplyr.tidyverse.org/reference/dplyr_tidy_select.html). For example, we can use `everything()` to select everything not already selected. This can be useful if we want to set a new first column (e.g., `homeworld`), but keep the other columns in their existing order:"
   ]
  },
  {
   "cell_type": "code",
   "execution_count": null,
   "metadata": {
    "tags": [
     "remove-output"
    ],
    "vscode": {
     "languageId": "r"
    }
   },
   "outputs": [],
   "source": [
    "select(starwars, homeworld, everything())"
   ]
  },
  {
   "cell_type": "code",
   "execution_count": null,
   "metadata": {
    "tags": [
     "remove-input"
    ],
    "vscode": {
     "languageId": "r"
    }
   },
   "outputs": [],
   "source": [
    "select(starwars, homeworld, everything()) |> print()"
   ]
  },
  {
   "cell_type": "markdown",
   "metadata": {},
   "source": [
    "\n",
    "<br><br>\n",
    "We can also use selection helpers to select variables that *start* (`starts_with()`), *end* (`ends_with()`), or *contain* (`contains()`) a given string.\n",
    "\n",
    "Here we select variables that:\n",
    "* Contain \"color\"\n",
    "* End with the character \"s\""
   ]
  },
  {
   "cell_type": "code",
   "execution_count": null,
   "metadata": {
    "tags": [
     "remove-output"
    ],
    "vscode": {
     "languageId": "r"
    }
   },
   "outputs": [],
   "source": [
    "select(starwars, contains(\"color\"), ends_with(\"s\"))"
   ]
  },
  {
   "cell_type": "code",
   "execution_count": null,
   "metadata": {
    "tags": [
     "remove-input"
    ],
    "vscode": {
     "languageId": "r"
    }
   },
   "outputs": [],
   "source": [
    "select(starwars, contains(\"color\"), ends_with(\"s\")) |> print()"
   ]
  },
  {
   "cell_type": "markdown",
   "metadata": {},
   "source": [
    "<br>\n",
    "\n",
    "### Check your Knowledge!\n",
    "\n",
    "Try coming up with code to solve the following:\n",
    "\n",
    "1. Reorder the columns so that the first two columns are `eye_color` and `films`.\n",
    "\n",
    "2. Remove any columns that end with the word `\"color\"`."
   ]
  },
  {
   "cell_type": "markdown",
   "metadata": {},
   "source": [
    "<br>\n",
    "\n",
    "---\n",
    "\n",
    "## `pull()`\n",
    "\n",
    "While `select()` subsets columns in our dataframe, the output is still stored as a column in a dataframe. Instead, we may want to store the results in a more standard data format. The `pull()` function makes this easy."
   ]
  },
  {
   "cell_type": "code",
   "execution_count": null,
   "metadata": {
    "tags": [
     "remove-output"
    ],
    "vscode": {
     "languageId": "r"
    }
   },
   "outputs": [],
   "source": [
    "pull(starwars, name)"
   ]
  },
  {
   "cell_type": "code",
   "execution_count": null,
   "metadata": {
    "tags": [
     "remove-input"
    ],
    "vscode": {
     "languageId": "r"
    }
   },
   "outputs": [],
   "source": [
    "pull(starwars, name) |> print()"
   ]
  },
  {
   "cell_type": "markdown",
   "metadata": {},
   "source": [
    "<br>\n",
    "\n",
    "This is a tidyverse equivalent to the `$` operator. Another way of writing this would be:"
   ]
  },
  {
   "cell_type": "code",
   "execution_count": null,
   "metadata": {
    "tags": [
     "remove-output"
    ],
    "vscode": {
     "languageId": "r"
    }
   },
   "outputs": [],
   "source": [
    "starwars$name"
   ]
  },
  {
   "cell_type": "code",
   "execution_count": null,
   "metadata": {
    "tags": [
     "remove-input"
    ],
    "vscode": {
     "languageId": "r"
    }
   },
   "outputs": [],
   "source": [
    "print(starwars$name)"
   ]
  },
  {
   "cell_type": "markdown",
   "metadata": {},
   "source": [
    "<br>\n",
    "\n",
    "Extracting variables in this way can be useful for passing the output to more standard R functions. In this example, we use the `unique()` function to find all unique values for the `homeworld` variable, sorted in alphabetic order."
   ]
  },
  {
   "cell_type": "code",
   "execution_count": null,
   "metadata": {
    "tags": [
     "remove-output"
    ],
    "vscode": {
     "languageId": "r"
    }
   },
   "outputs": [],
   "source": [
    "hws <- pull(starwars, homeworld)\n",
    "sort(unique(hws))"
   ]
  },
  {
   "cell_type": "code",
   "execution_count": null,
   "metadata": {
    "tags": [
     "remove-input"
    ],
    "vscode": {
     "languageId": "r"
    }
   },
   "outputs": [],
   "source": [
    "sort(unique(hws)) |> print()"
   ]
  },
  {
   "cell_type": "markdown",
   "metadata": {},
   "source": [
    "<br>\n",
    "\n",
    "### Check your Knowledge!\n",
    "\n",
    "Try coming up with code to solve the following:\n",
    "\n",
    "1. Use `pull()` to extract the values for `mass`, and calculate the average (via `mean()`). Note: you may have to set `na.rm=TRUE`, as some observations are missing.\n",
    "\n",
    "2. Use `pull()` to extract the eye colours. How many different categories for eye colour are there?"
   ]
  },
  {
   "cell_type": "markdown",
   "metadata": {},
   "source": [
    "<br>\n",
    "\n",
    "---\n",
    "\n",
    "## `mutate()`\n",
    "\n",
    "The `mutate()` function allows us to edit columns and add new columns in dataframes.\n",
    "\n",
    "### Editing Existing Columns\n",
    "\n",
    "Suppose we want to convert all values in the `name` column to be lowercase. We can do this like so, with the `tolower()` function:"
   ]
  },
  {
   "cell_type": "code",
   "execution_count": null,
   "metadata": {
    "tags": [
     "remove-output"
    ],
    "vscode": {
     "languageId": "r"
    }
   },
   "outputs": [],
   "source": [
    "mutate(starwars, name=tolower(name))"
   ]
  },
  {
   "cell_type": "code",
   "execution_count": null,
   "metadata": {
    "tags": [
     "remove-input"
    ],
    "vscode": {
     "languageId": "r"
    }
   },
   "outputs": [],
   "source": [
    "mutate(starwars, name=tolower(name)) |> print()"
   ]
  },
  {
   "cell_type": "markdown",
   "metadata": {},
   "source": [
    "<br>\n",
    "\n",
    "### Adding new columns\n",
    "\n",
    "We can also create new columns with this syntax. These can be calculated from the values of existing columns. For example, character heights are currently stored in *centimeters*. We can create a new column, height_inches, which will be the same data but converted into *inches* (by dividing by 2.54)."
   ]
  },
  {
   "cell_type": "code",
   "execution_count": null,
   "metadata": {
    "tags": [
     "remove-output"
    ],
    "vscode": {
     "languageId": "r"
    }
   },
   "outputs": [],
   "source": [
    "mutate(starwars, height_inches=height/2.54)"
   ]
  },
  {
   "cell_type": "code",
   "execution_count": null,
   "metadata": {
    "tags": [
     "remove-input"
    ],
    "vscode": {
     "languageId": "r"
    }
   },
   "outputs": [],
   "source": [
    "mutate(starwars, height_inches=height/2.54) |> print()"
   ]
  },
  {
   "cell_type": "markdown",
   "metadata": {},
   "source": [
    "<br>\n",
    "\n",
    "### Check your Knowledge!\n",
    "\n",
    "Try coming up with code to solve the following:\n",
    "\n",
    "1. Add a new column that contains the number of characters (letters, including spaces) in each starwars character's name. *Hint: `nchar()` can count characters in text*\n",
    "\n",
    "2. The example above makes it hard compare `height` and `height_inches`. Can you combine `mutate()` with `select()` to show the two height values side by side?"
   ]
  },
  {
   "cell_type": "markdown",
   "metadata": {},
   "source": [
    "<br>\n",
    "\n",
    "---\n",
    "\n",
    "## `summarise()`\n",
    "\n",
    "The `summarise()` function lets us calculate summary statistics for our dataframe. It can be coimbined with `group_by()` to calculate summary statistics for groups separately (e.g., factorial designs in an experiment).\n",
    "\n",
    "### Overall Summaries\n",
    "\n",
    "On it's own, `summarise()` gives us overall summary statistics for the dataframe. For example, we can calculate the average height (ignoring missing observations) like so:"
   ]
  },
  {
   "cell_type": "code",
   "execution_count": null,
   "metadata": {
    "tags": [
     "remove-output"
    ],
    "vscode": {
     "languageId": "r"
    }
   },
   "outputs": [],
   "source": [
    "summarise(starwars, mean_height = mean(height, na.rm=TRUE))"
   ]
  },
  {
   "cell_type": "code",
   "execution_count": null,
   "metadata": {
    "tags": [
     "remove-input"
    ],
    "vscode": {
     "languageId": "r"
    }
   },
   "outputs": [],
   "source": [
    "summarise(starwars, mean_height = mean(height, na.rm=TRUE)) |> print()"
   ]
  },
  {
   "cell_type": "markdown",
   "metadata": {},
   "source": [
    "<br>\n",
    "\n",
    "We can ask for multiple summary statistics. For example, we can also calculate the standard deviation (`sd()`), and calculate these variables for multiple variables (both `height` and `mass`)."
   ]
  },
  {
   "cell_type": "code",
   "execution_count": null,
   "metadata": {
    "tags": [
     "remove-output"
    ],
    "vscode": {
     "languageId": "r"
    }
   },
   "outputs": [],
   "source": [
    "summarise(\n",
    "    starwars,\n",
    "    mean_height = mean(height, na.rm=TRUE),\n",
    "    sd_height = sd(height, na.rm=TRUE),\n",
    "    mean_mass = mean(mass, na.rm=TRUE),\n",
    "    sd_mass = sd(mass, na.rm=TRUE)\n",
    ")"
   ]
  },
  {
   "cell_type": "code",
   "execution_count": null,
   "metadata": {
    "tags": [
     "remove-input"
    ],
    "vscode": {
     "languageId": "r"
    }
   },
   "outputs": [],
   "source": [
    "summarise(\n",
    "    starwars,\n",
    "    mean_height = mean(height, na.rm=TRUE),\n",
    "    sd_height = sd(height, na.rm=TRUE),\n",
    "    mean_mass = mean(mass, na.rm=TRUE),\n",
    "    sd_mass = sd(mass, na.rm=TRUE)\n",
    ") |>\n",
    "    print()"
   ]
  },
  {
   "cell_type": "markdown",
   "metadata": {},
   "source": [
    "<br>\n",
    "\n",
    "## Per-Group Summaries\n",
    "\n",
    "If we call `group_by()` before `summarise()`, we can calculate summary statistics per group. For example, we could calculate the Mean and SD of height and mass for each category of sex."
   ]
  },
  {
   "cell_type": "code",
   "execution_count": null,
   "metadata": {
    "tags": [
     "remove-output"
    ],
    "vscode": {
     "languageId": "r"
    }
   },
   "outputs": [],
   "source": [
    "starwars_grouped <- group_by(starwars, sex)\n",
    "\n",
    "summarise(\n",
    "    starwars_grouped,\n",
    "    mean_height = mean(height, na.rm=TRUE),\n",
    "    sd_height = sd(height, na.rm=TRUE),\n",
    "    mean_mass = mean(mass, na.rm=TRUE),\n",
    "    sd_mass = sd(mass, na.rm=TRUE)\n",
    ")"
   ]
  },
  {
   "cell_type": "code",
   "execution_count": null,
   "metadata": {
    "tags": [
     "remove-input"
    ],
    "vscode": {
     "languageId": "r"
    }
   },
   "outputs": [],
   "source": [
    "starwars_grouped <- group_by(starwars, sex)\n",
    "\n",
    "summarise(\n",
    "    starwars_grouped,\n",
    "    mean_height = mean(height, na.rm=TRUE),\n",
    "    sd_height = sd(height, na.rm=TRUE),\n",
    "    mean_mass = mean(mass, na.rm=TRUE),\n",
    "    sd_mass = sd(mass, na.rm=TRUE)\n",
    ") |>\n",
    "    print()"
   ]
  },
  {
   "cell_type": "markdown",
   "metadata": {},
   "source": [
    "<br>\n",
    "\n",
    "As a brief teaser for [Data Wrangling Part 2](https://jackedtaylor.github.io/expra-wise24/introduction/data_wrangling_2.html), we can rewrite this into a single chain, via the pipe operator (`|>`)."
   ]
  },
  {
   "cell_type": "code",
   "execution_count": null,
   "metadata": {
    "tags": [
     "remove-output"
    ],
    "vscode": {
     "languageId": "r"
    }
   },
   "outputs": [],
   "source": [
    "starwars |>\n",
    "    group_by(sex) |>\n",
    "    summarise(\n",
    "        mean_height = mean(height, na.rm=TRUE),\n",
    "        sd_height = sd(height, na.rm=TRUE),\n",
    "        mean_mass = mean(mass, na.rm=TRUE),\n",
    "        sd_mass = sd(mass, na.rm=TRUE)\n",
    "    )"
   ]
  },
  {
   "cell_type": "code",
   "execution_count": null,
   "metadata": {
    "tags": [
     "remove-input"
    ],
    "vscode": {
     "languageId": "r"
    }
   },
   "outputs": [],
   "source": [
    "starwars |>\n",
    "    group_by(sex) |>\n",
    "    summarise(\n",
    "        mean_height = mean(height, na.rm=TRUE),\n",
    "        sd_height = sd(height, na.rm=TRUE),\n",
    "        mean_mass = mean(mass, na.rm=TRUE),\n",
    "        sd_mass = sd(mass, na.rm=TRUE)\n",
    "    ) |>\n",
    "    print()"
   ]
  },
  {
   "cell_type": "markdown",
   "metadata": {},
   "source": [
    "<br>\n",
    "\n",
    "## Counting Observations\n",
    "\n",
    "One common use of `group_by()` and `summarise()` is to count the number of observations. Here, we count the number of observations for each category of `sex`, via the `n()` function."
   ]
  },
  {
   "cell_type": "code",
   "execution_count": null,
   "metadata": {
    "tags": [
     "remove-output"
    ],
    "vscode": {
     "languageId": "r"
    }
   },
   "outputs": [],
   "source": [
    "starwars |>\n",
    "    group_by(sex) |>\n",
    "    summarise(N = n())"
   ]
  },
  {
   "cell_type": "code",
   "execution_count": null,
   "metadata": {
    "tags": [
     "remove-input"
    ],
    "vscode": {
     "languageId": "r"
    }
   },
   "outputs": [],
   "source": [
    "starwars |>\n",
    "    group_by(sex) |>\n",
    "    summarise(N = n()) |>\n",
    "    print()"
   ]
  },
  {
   "cell_type": "markdown",
   "metadata": {},
   "source": [
    "<br>\n",
    "\n",
    "### Check your Knowledge!\n",
    "\n",
    "Try coming up with code to solve the following:\n",
    "\n",
    "1. Create a single summary that contains the mean height, SD of height, and number of observations, for each category of `sex`.\n",
    "\n",
    "2. Count the number of observations for each category of `species`, and combine this with another function you have learned to sort descendingly (most populous species first)."
   ]
  }
 ],
 "metadata": {
  "kernelspec": {
   "display_name": "R",
   "language": "R",
   "name": "ir"
  },
  "language_info": {
   "codemirror_mode": "r",
   "file_extension": ".r",
   "mimetype": "text/x-r-source",
   "name": "R",
   "pygments_lexer": "r",
   "version": "4.1.3"
  }
 },
 "nbformat": 4,
 "nbformat_minor": 5
}
