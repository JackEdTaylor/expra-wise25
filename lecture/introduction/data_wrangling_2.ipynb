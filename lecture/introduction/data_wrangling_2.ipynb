{
 "cells": [
  {
   "cell_type": "markdown",
   "id": "34e9fb44",
   "metadata": {},
   "source": [
    "# Data Wrangling 2\n",
    "\n",
    "Welcome to part 2! In this session, we will recap everything we covered in [Part 1](https://jackedtaylor.github.io/expra-wise24/introduction/data_wrangling_1.html), and we will cover:\n",
    "\n",
    "* [Pipes](#pipes): `|>`\n",
    "* [Reformatting into Wide / Long format](#wide-and-long-data-formatting): `pivot_wider()` and `pivot_longer()`\n",
    "\n",
    "We will use two main packages in this session: `dplyr` and `tidyr`:"
   ]
  },
  {
   "cell_type": "code",
   "execution_count": 19,
   "metadata": {
    "tags": [
     "remove-output"
    ],
    "vscode": {
     "languageId": "r"
    }
   },
   "outputs": [],
   "source": [
    "library(dplyr)\n",
    "library(tidyr)"
   ]
  },
  {
   "cell_type": "markdown",
   "metadata": {},
   "source": [
    "<br>\n",
    "\n",
    "---\n",
    "\n",
    "## Pipes\n",
    "\n",
    "The pipe operator looks like this: `|>`. It takes the output of one function, and \"pipes\" it into the first argument of the next function.\n",
    "\n",
    "But why would such a thing be useful? Well, here's some example code to hopefully demonstrate..."
   ]
  },
  {
   "cell_type": "code",
   "execution_count": 20,
   "id": "8d6a0e92",
   "metadata": {
    "tags": [
     "remove-input"
    ],
    "vscode": {
     "languageId": "r"
    }
   },
   "outputs": [],
   "source": [
    "options(repr.plot.width=3.5, repr.plot.height=3, repr.matrix.max.rows=10)"
   ]
  },
  {
   "cell_type": "code",
   "execution_count": 21,
   "id": "165b6408",
   "metadata": {
    "tags": [
     "remove-output"
    ],
    "vscode": {
     "languageId": "r"
    }
   },
   "outputs": [
    {
     "data": {
      "text/html": [
       "<table class=\"dataframe\">\n",
       "<caption>A tibble: 74 × 3</caption>\n",
       "<thead>\n",
       "\t<tr><th scope=col>name</th><th scope=col>height</th><th scope=col>height_inches</th></tr>\n",
       "\t<tr><th scope=col>&lt;chr&gt;</th><th scope=col>&lt;int&gt;</th><th scope=col>&lt;dbl&gt;</th></tr>\n",
       "</thead>\n",
       "<tbody>\n",
       "\t<tr><td>Ratts Tyerell        </td><td>79</td><td>31.10236</td></tr>\n",
       "\t<tr><td>Wicket Systri Warrick</td><td>88</td><td>34.64567</td></tr>\n",
       "\t<tr><td>Dud Bolt             </td><td>94</td><td>37.00787</td></tr>\n",
       "\t<tr><td>R2-D2                </td><td>96</td><td>37.79528</td></tr>\n",
       "\t<tr><td>R5-D4                </td><td>97</td><td>38.18898</td></tr>\n",
       "\t<tr><td>...</td><td>...</td><td>...</td></tr>\n",
       "\t<tr><td>Roos Tarpals</td><td>224</td><td> 88.18898</td></tr>\n",
       "\t<tr><td>Chewbacca   </td><td>228</td><td> 89.76378</td></tr>\n",
       "\t<tr><td>Lama Su     </td><td>229</td><td> 90.15748</td></tr>\n",
       "\t<tr><td>Tarfful     </td><td>234</td><td> 92.12598</td></tr>\n",
       "\t<tr><td>Yarael Poof </td><td>264</td><td>103.93701</td></tr>\n",
       "</tbody>\n",
       "</table>\n"
      ],
      "text/latex": [
       "A tibble: 74 × 3\n",
       "\\begin{tabular}{lll}\n",
       " name & height & height\\_inches\\\\\n",
       " <chr> & <int> & <dbl>\\\\\n",
       "\\hline\n",
       "\t Ratts Tyerell         & 79 & 31.10236\\\\\n",
       "\t Wicket Systri Warrick & 88 & 34.64567\\\\\n",
       "\t Dud Bolt              & 94 & 37.00787\\\\\n",
       "\t R2-D2                 & 96 & 37.79528\\\\\n",
       "\t R5-D4                 & 97 & 38.18898\\\\\n",
       "\t ... & ... & ...\\\\\n",
       "\t Roos Tarpals & 224 &  88.18898\\\\\n",
       "\t Chewbacca    & 228 &  89.76378\\\\\n",
       "\t Lama Su      & 229 &  90.15748\\\\\n",
       "\t Tarfful      & 234 &  92.12598\\\\\n",
       "\t Yarael Poof  & 264 & 103.93701\\\\\n",
       "\\end{tabular}\n"
      ],
      "text/markdown": [
       "\n",
       "A tibble: 74 × 3\n",
       "\n",
       "| name &lt;chr&gt; | height &lt;int&gt; | height_inches &lt;dbl&gt; |\n",
       "|---|---|---|\n",
       "| Ratts Tyerell         | 79 | 31.10236 |\n",
       "| Wicket Systri Warrick | 88 | 34.64567 |\n",
       "| Dud Bolt              | 94 | 37.00787 |\n",
       "| R2-D2                 | 96 | 37.79528 |\n",
       "| R5-D4                 | 97 | 38.18898 |\n",
       "| ... | ... | ... |\n",
       "| Roos Tarpals | 224 |  88.18898 |\n",
       "| Chewbacca    | 228 |  89.76378 |\n",
       "| Lama Su      | 229 |  90.15748 |\n",
       "| Tarfful      | 234 |  92.12598 |\n",
       "| Yarael Poof  | 264 | 103.93701 |\n",
       "\n"
      ],
      "text/plain": [
       "    name                  height height_inches\n",
       "1   Ratts Tyerell         79     31.10236     \n",
       "2   Wicket Systri Warrick 88     34.64567     \n",
       "3   Dud Bolt              94     37.00787     \n",
       "4   R2-D2                 96     37.79528     \n",
       "5   R5-D4                 97     38.18898     \n",
       "... ...                   ...    ...          \n",
       "70  Roos Tarpals          224     88.18898    \n",
       "71  Chewbacca             228     89.76378    \n",
       "72  Lama Su               229     90.15748    \n",
       "73  Tarfful               234     92.12598    \n",
       "74  Yarael Poof           264    103.93701    "
      ]
     },
     "metadata": {},
     "output_type": "display_data"
    }
   ],
   "source": [
    "data_1 <- starwars\n",
    "data_2 <- filter(data_1, homeworld != \"Alderaan\")\n",
    "data_3 <- mutate(data_2, height_inches = height/2.54)\n",
    "data_4 <- select(data_3, name, height, height_inches)\n",
    "data_5 <- arrange(data_4, height)\n",
    "\n",
    "data_5"
   ]
  },
  {
   "cell_type": "code",
   "execution_count": 22,
   "metadata": {
    "tags": [
     "remove-input"
    ],
    "vscode": {
     "languageId": "r"
    }
   },
   "outputs": [
    {
     "name": "stdout",
     "output_type": "stream",
     "text": [
      "\u001b[90m# A tibble: 74 x 3\u001b[39m\n",
      "   name                  height height_inches\n",
      "   \u001b[3m\u001b[90m<chr>\u001b[39m\u001b[23m                  \u001b[3m\u001b[90m<int>\u001b[39m\u001b[23m         \u001b[3m\u001b[90m<dbl>\u001b[39m\u001b[23m\n",
      "\u001b[90m 1\u001b[39m Ratts Tyerell             79          31.1\n",
      "\u001b[90m 2\u001b[39m Wicket Systri Warrick     88          34.6\n",
      "\u001b[90m 3\u001b[39m Dud Bolt                  94          37.0\n",
      "\u001b[90m 4\u001b[39m R2-D2                     96          37.8\n",
      "\u001b[90m 5\u001b[39m R5-D4                     97          38.2\n",
      "\u001b[90m 6\u001b[39m Sebulba                  112          44.1\n",
      "\u001b[90m 7\u001b[39m Gasgano                  122          48.0\n",
      "\u001b[90m 8\u001b[39m Watto                    137          53.9\n",
      "\u001b[90m 9\u001b[39m Mon Mothma               150          59.1\n",
      "\u001b[90m10\u001b[39m Cordé                    157          61.8\n",
      "\u001b[90m# i 64 more rows\u001b[39m\n"
     ]
    }
   ],
   "source": [
    "print(data_5)"
   ]
  },
  {
   "cell_type": "markdown",
   "metadata": {},
   "source": [
    "What you can hopefully see is that we start with one dataframe, `starwars`. We then apply the `filter()`, `mutate()`, `select()`, and `arrange()` functions. Each time, we take the result of the last output, apply the function, and store the result in a new variable.\n",
    "\n",
    "Rather than storing several variables that we are not interested in, another approach would be to nest the functions within each other's parentheses. For example:"
   ]
  },
  {
   "cell_type": "code",
   "execution_count": 23,
   "metadata": {
    "vscode": {
     "languageId": "r"
    }
   },
   "outputs": [],
   "source": [
    "# an example of nested data wrangling - difficult to read isn't it?\n",
    "final_data <- arrange(\n",
    "    select(\n",
    "        mutate(\n",
    "            filter(starwars, homeworld != \"Alderaan\"),\n",
    "            height_inches = height/2.54\n",
    "        ),\n",
    "        name, height, height_inches\n",
    "    ),\n",
    "    height\n",
    ")"
   ]
  },
  {
   "cell_type": "markdown",
   "metadata": {},
   "source": [
    "This is really difficult to read, isn't it!?\n",
    "\n",
    "What if we want code as readable as the first example, but without the unnecessary variables in between. Pipes are a perfect solution!"
   ]
  },
  {
   "cell_type": "code",
   "execution_count": 24,
   "metadata": {
    "vscode": {
     "languageId": "r"
    }
   },
   "outputs": [],
   "source": [
    "# a clear, readable example using pipes\n",
    "final_data <- starwars |>\n",
    "    filter(homeworld != \"Alderaan\") |>\n",
    "    mutate(height_inches = height/2.54) |>\n",
    "    select(name, height, height_inches) |>\n",
    "    arrange(height)"
   ]
  },
  {
   "cell_type": "markdown",
   "metadata": {},
   "source": [
    "Each line tells R what to do with the output of the last line. The output of the last line is always provided to the first input of the function on the next line."
   ]
  },
  {
   "cell_type": "markdown",
   "metadata": {},
   "source": [
    "<br>\n",
    "\n",
    "### Check your Knowledge!\n",
    "\n",
    "Rewrite the following snippets of code to use pipes (`|>`). You should check that the output matches the value in the last variable to be assigned in the non-piped example."
   ]
  },
  {
   "cell_type": "markdown",
   "metadata": {},
   "source": [
    "##### a)"
   ]
  },
  {
   "cell_type": "code",
   "execution_count": 25,
   "metadata": {
    "tags": [],
    "vscode": {
     "languageId": "r"
    }
   },
   "outputs": [],
   "source": [
    "filtered_naboo <- filter(starwars, homeworld==\"Naboo\")\n",
    "naboo_characters <- pull(filtered_naboo, name)"
   ]
  },
  {
   "cell_type": "markdown",
   "metadata": {},
   "source": [
    "##### b)"
   ]
  },
  {
   "cell_type": "code",
   "execution_count": 26,
   "metadata": {
    "vscode": {
     "languageId": "r"
    }
   },
   "outputs": [],
   "source": [
    "hws <- pull(starwars, homeworld)\n",
    "unique_worlds <- sort(unique(hws))"
   ]
  },
  {
   "cell_type": "markdown",
   "metadata": {},
   "source": [
    "##### c)"
   ]
  },
  {
   "cell_type": "code",
   "execution_count": 27,
   "metadata": {
    "vscode": {
     "languageId": "r"
    }
   },
   "outputs": [],
   "source": [
    "sw_filt <- filter(starwars, birth_year>50)\n",
    "sw_grp <- group_by(sw_filt, species)\n",
    "mass_summ <- summarise(sw_grp, M = mean(mass, na.rm=TRUE), SD = sd(mass, na.rm=TRUE))"
   ]
  },
  {
   "cell_type": "markdown",
   "metadata": {},
   "source": [
    "##### d)"
   ]
  },
  {
   "cell_type": "code",
   "execution_count": 28,
   "metadata": {
    "vscode": {
     "languageId": "r"
    }
   },
   "outputs": [],
   "source": [
    "height_summ <- summarise(group_by(starwars, homeworld), mean_height=mean(height, na.rm=TRUE))"
   ]
  },
  {
   "cell_type": "markdown",
   "metadata": {},
   "source": [
    "<br>\n",
    "\n",
    "---\n",
    "\n",
    "## Wide and Long Data Formatting\n",
    "\n",
    "Imagine we have response-time data from a within-participant experimental design where participants all took part in two conditions (\"A\" and \"B\"). There are two sensible ways we can organise these data in a table.\n",
    "\n",
    "##### Wide Format Example\n",
    "\n",
    "* The two conditions are in separate columns (`A` and `B`)\n",
    "* Each row contains data from one participant (`id`)"
   ]
  },
  {
   "cell_type": "code",
   "execution_count": 29,
   "metadata": {
    "tags": [],
    "vscode": {
     "languageId": "r"
    }
   },
   "outputs": [
    {
     "data": {
      "text/html": [
       "<table class=\"dataframe\">\n",
       "<caption>A data.frame: 4 × 3</caption>\n",
       "<thead>\n",
       "\t<tr><th scope=col>id</th><th scope=col>A</th><th scope=col>B</th></tr>\n",
       "\t<tr><th scope=col>&lt;chr&gt;</th><th scope=col>&lt;dbl&gt;</th><th scope=col>&lt;dbl&gt;</th></tr>\n",
       "</thead>\n",
       "<tbody>\n",
       "\t<tr><td>s01</td><td>240</td><td>542</td></tr>\n",
       "\t<tr><td>s02</td><td>300</td><td>366</td></tr>\n",
       "\t<tr><td>s03</td><td>264</td><td>662</td></tr>\n",
       "\t<tr><td>s04</td><td>312</td><td>430</td></tr>\n",
       "</tbody>\n",
       "</table>\n"
      ],
      "text/latex": [
       "A data.frame: 4 × 3\n",
       "\\begin{tabular}{lll}\n",
       " id & A & B\\\\\n",
       " <chr> & <dbl> & <dbl>\\\\\n",
       "\\hline\n",
       "\t s01 & 240 & 542\\\\\n",
       "\t s02 & 300 & 366\\\\\n",
       "\t s03 & 264 & 662\\\\\n",
       "\t s04 & 312 & 430\\\\\n",
       "\\end{tabular}\n"
      ],
      "text/markdown": [
       "\n",
       "A data.frame: 4 × 3\n",
       "\n",
       "| id &lt;chr&gt; | A &lt;dbl&gt; | B &lt;dbl&gt; |\n",
       "|---|---|---|\n",
       "| s01 | 240 | 542 |\n",
       "| s02 | 300 | 366 |\n",
       "| s03 | 264 | 662 |\n",
       "| s04 | 312 | 430 |\n",
       "\n"
      ],
      "text/plain": [
       "  id  A   B  \n",
       "1 s01 240 542\n",
       "2 s02 300 366\n",
       "3 s03 264 662\n",
       "4 s04 312 430"
      ]
     },
     "metadata": {},
     "output_type": "display_data"
    }
   ],
   "source": [
    "data.frame(\n",
    "    id = c(\"s01\", \"s02\", \"s03\", \"s04\"),\n",
    "    A = c(240, 300, 264, 312),\n",
    "    B = c(542, 366, 662, 430)\n",
    ")"
   ]
  },
  {
   "cell_type": "markdown",
   "metadata": {},
   "source": [
    "##### Long Format Example\n",
    "\n",
    "* One column now contains values from all conditions (`rt`)\n",
    "* Another column tells us which condition each observation comes from (`condition`)\n",
    "* Each participant now has two rows - one for each condition"
   ]
  },
  {
   "cell_type": "code",
   "execution_count": 30,
   "metadata": {
    "tags": [
     "remove-input"
    ],
    "vscode": {
     "languageId": "r"
    }
   },
   "outputs": [
    {
     "data": {
      "text/html": [
       "<table class=\"dataframe\">\n",
       "<caption>A data.frame: 8 × 3</caption>\n",
       "<thead>\n",
       "\t<tr><th scope=col>id</th><th scope=col>condition</th><th scope=col>rt</th></tr>\n",
       "\t<tr><th scope=col>&lt;chr&gt;</th><th scope=col>&lt;chr&gt;</th><th scope=col>&lt;dbl&gt;</th></tr>\n",
       "</thead>\n",
       "<tbody>\n",
       "\t<tr><td>s01</td><td>A</td><td>240</td></tr>\n",
       "\t<tr><td>s01</td><td>B</td><td>542</td></tr>\n",
       "\t<tr><td>s02</td><td>A</td><td>300</td></tr>\n",
       "\t<tr><td>s02</td><td>B</td><td>366</td></tr>\n",
       "\t<tr><td>s03</td><td>A</td><td>264</td></tr>\n",
       "\t<tr><td>s03</td><td>B</td><td>662</td></tr>\n",
       "\t<tr><td>s04</td><td>A</td><td>312</td></tr>\n",
       "\t<tr><td>s04</td><td>B</td><td>430</td></tr>\n",
       "</tbody>\n",
       "</table>\n"
      ],
      "text/latex": [
       "A data.frame: 8 × 3\n",
       "\\begin{tabular}{lll}\n",
       " id & condition & rt\\\\\n",
       " <chr> & <chr> & <dbl>\\\\\n",
       "\\hline\n",
       "\t s01 & A & 240\\\\\n",
       "\t s01 & B & 542\\\\\n",
       "\t s02 & A & 300\\\\\n",
       "\t s02 & B & 366\\\\\n",
       "\t s03 & A & 264\\\\\n",
       "\t s03 & B & 662\\\\\n",
       "\t s04 & A & 312\\\\\n",
       "\t s04 & B & 430\\\\\n",
       "\\end{tabular}\n"
      ],
      "text/markdown": [
       "\n",
       "A data.frame: 8 × 3\n",
       "\n",
       "| id &lt;chr&gt; | condition &lt;chr&gt; | rt &lt;dbl&gt; |\n",
       "|---|---|---|\n",
       "| s01 | A | 240 |\n",
       "| s01 | B | 542 |\n",
       "| s02 | A | 300 |\n",
       "| s02 | B | 366 |\n",
       "| s03 | A | 264 |\n",
       "| s03 | B | 662 |\n",
       "| s04 | A | 312 |\n",
       "| s04 | B | 430 |\n",
       "\n"
      ],
      "text/plain": [
       "  id  condition rt \n",
       "1 s01 A         240\n",
       "2 s01 B         542\n",
       "3 s02 A         300\n",
       "4 s02 B         366\n",
       "5 s03 A         264\n",
       "6 s03 B         662\n",
       "7 s04 A         312\n",
       "8 s04 B         430"
      ]
     },
     "metadata": {},
     "output_type": "display_data"
    }
   ],
   "source": [
    "data.frame(\n",
    "    id = rep(c(\"s01\", \"s02\", \"s03\", \"s04\"), each = 2),\n",
    "    condition = rep(c(\"A\", \"B\"), 4),\n",
    "    rt = c(240, 542, 300, 366, 264, 662, 312, 430)\n",
    ")"
   ]
  },
  {
   "cell_type": "markdown",
   "metadata": {},
   "source": [
    "Wide and Long data formats are simply different ways of representing the data. It is often useful to switch between long and wide data formats. For example, long data format can make data visualisations easier with `ggplot2` (see [Data Visualisation](https://jackedtaylor.github.io/expra-wise24/introduction/data_vis) session), or can make it easier to calculate difference scores.\n",
    "\n",
    "The `tidyr` package has two very handy functions for switching between wide and long data formats: [`pivot_wider()`](#pivot_wider) and [`pivot_longer()`](#pivot_longer)."
   ]
  },
  {
   "cell_type": "markdown",
   "metadata": {},
   "source": [
    "<br>\n",
    "\n",
    "### `pivot_wider()`\n",
    "\n",
    "The `pivot_wider()` function lets us switch *from long to wide* data formats. As an example, let's start with a summary of heights in the `starwars` dataset, split by sex and species."
   ]
  },
  {
   "cell_type": "code",
   "execution_count": 31,
   "metadata": {
    "tags": [
     "remove-output"
    ],
    "vscode": {
     "languageId": "r"
    }
   },
   "outputs": [
    {
     "name": "stderr",
     "output_type": "stream",
     "text": [
      "\u001b[1m\u001b[22m`summarise()` has grouped output by 'sex'. You can override using the `.groups`\n",
      "argument.\n"
     ]
    },
    {
     "data": {
      "text/html": [
       "<table class=\"dataframe\">\n",
       "<caption>A grouped_df: 41 × 3</caption>\n",
       "<thead>\n",
       "\t<tr><th scope=col>sex</th><th scope=col>species</th><th scope=col>avg_height</th></tr>\n",
       "\t<tr><th scope=col>&lt;chr&gt;</th><th scope=col>&lt;chr&gt;</th><th scope=col>&lt;dbl&gt;</th></tr>\n",
       "</thead>\n",
       "<tbody>\n",
       "\t<tr><td>female</td><td>Clawdite  </td><td>168.00</td></tr>\n",
       "\t<tr><td>female</td><td>Human     </td><td>160.25</td></tr>\n",
       "\t<tr><td>female</td><td>Kaminoan  </td><td>213.00</td></tr>\n",
       "\t<tr><td>female</td><td>Mirialan  </td><td>168.00</td></tr>\n",
       "\t<tr><td>female</td><td>Tholothian</td><td>184.00</td></tr>\n",
       "\t<tr><td>...</td><td>...</td><td>...</td></tr>\n",
       "\t<tr><td>male</td><td>Xexto         </td><td>122.0000</td></tr>\n",
       "\t<tr><td>male</td><td>Yoda's species</td><td> 66.0000</td></tr>\n",
       "\t<tr><td>male</td><td>Zabrak        </td><td>173.0000</td></tr>\n",
       "\t<tr><td>none</td><td>Droid         </td><td>131.2000</td></tr>\n",
       "\t<tr><td>NA  </td><td>NA            </td><td>181.3333</td></tr>\n",
       "</tbody>\n",
       "</table>\n"
      ],
      "text/latex": [
       "A grouped\\_df: 41 × 3\n",
       "\\begin{tabular}{lll}\n",
       " sex & species & avg\\_height\\\\\n",
       " <chr> & <chr> & <dbl>\\\\\n",
       "\\hline\n",
       "\t female & Clawdite   & 168.00\\\\\n",
       "\t female & Human      & 160.25\\\\\n",
       "\t female & Kaminoan   & 213.00\\\\\n",
       "\t female & Mirialan   & 168.00\\\\\n",
       "\t female & Tholothian & 184.00\\\\\n",
       "\t ... & ... & ...\\\\\n",
       "\t male & Xexto          & 122.0000\\\\\n",
       "\t male & Yoda's species &  66.0000\\\\\n",
       "\t male & Zabrak         & 173.0000\\\\\n",
       "\t none & Droid          & 131.2000\\\\\n",
       "\t NA   & NA             & 181.3333\\\\\n",
       "\\end{tabular}\n"
      ],
      "text/markdown": [
       "\n",
       "A grouped_df: 41 × 3\n",
       "\n",
       "| sex &lt;chr&gt; | species &lt;chr&gt; | avg_height &lt;dbl&gt; |\n",
       "|---|---|---|\n",
       "| female | Clawdite   | 168.00 |\n",
       "| female | Human      | 160.25 |\n",
       "| female | Kaminoan   | 213.00 |\n",
       "| female | Mirialan   | 168.00 |\n",
       "| female | Tholothian | 184.00 |\n",
       "| ... | ... | ... |\n",
       "| male | Xexto          | 122.0000 |\n",
       "| male | Yoda's species |  66.0000 |\n",
       "| male | Zabrak         | 173.0000 |\n",
       "| none | Droid          | 131.2000 |\n",
       "| NA   | NA             | 181.3333 |\n",
       "\n"
      ],
      "text/plain": [
       "    sex    species        avg_height\n",
       "1   female Clawdite       168.00    \n",
       "2   female Human          160.25    \n",
       "3   female Kaminoan       213.00    \n",
       "4   female Mirialan       168.00    \n",
       "5   female Tholothian     184.00    \n",
       "... ...    ...            ...       \n",
       "37  male   Xexto          122.0000  \n",
       "38  male   Yoda's species  66.0000  \n",
       "39  male   Zabrak         173.0000  \n",
       "40  none   Droid          131.2000  \n",
       "41  NA     NA             181.3333  "
      ]
     },
     "metadata": {},
     "output_type": "display_data"
    }
   ],
   "source": [
    "sex_summ <- starwars |>\n",
    "    group_by(sex, species) |>\n",
    "    summarise(avg_height = mean(height, na.rm=TRUE))\n",
    "\n",
    "sex_summ"
   ]
  },
  {
   "cell_type": "code",
   "execution_count": 32,
   "metadata": {
    "tags": [
     "remove-input"
    ],
    "vscode": {
     "languageId": "r"
    }
   },
   "outputs": [
    {
     "name": "stdout",
     "output_type": "stream",
     "text": [
      "\u001b[90m# A tibble: 41 x 3\u001b[39m\n",
      "\u001b[90m# Groups:   sex [5]\u001b[39m\n",
      "   sex            species    avg_height\n",
      "   \u001b[3m\u001b[90m<chr>\u001b[39m\u001b[23m          \u001b[3m\u001b[90m<chr>\u001b[39m\u001b[23m           \u001b[3m\u001b[90m<dbl>\u001b[39m\u001b[23m\n",
      "\u001b[90m 1\u001b[39m female         Clawdite         168 \n",
      "\u001b[90m 2\u001b[39m female         Human            160.\n",
      "\u001b[90m 3\u001b[39m female         Kaminoan         213 \n",
      "\u001b[90m 4\u001b[39m female         Mirialan         168 \n",
      "\u001b[90m 5\u001b[39m female         Tholothian       184 \n",
      "\u001b[90m 6\u001b[39m female         Togruta          178 \n",
      "\u001b[90m 7\u001b[39m female         Twi'lek          178 \n",
      "\u001b[90m 8\u001b[39m hermaphroditic Hutt             175 \n",
      "\u001b[90m 9\u001b[39m male           Aleena            79 \n",
      "\u001b[90m10\u001b[39m male           Besalisk         198 \n",
      "\u001b[90m# i 31 more rows\u001b[39m\n"
     ]
    }
   ],
   "source": [
    "print(sex_summ)"
   ]
  },
  {
   "cell_type": "markdown",
   "metadata": {},
   "source": [
    "We can reformat this to a wider format, with the average heights for each sex in separate columns. This will result in one species per row of the dataframe. There are two main parameters that we need to provide to `pivot_wider()`. These are `names_from` (where the new column names should come from) and `values_from` (where the new columns' values should come from)."
   ]
  },
  {
   "cell_type": "code",
   "execution_count": 33,
   "metadata": {
    "tags": [
     "remove-output"
    ],
    "vscode": {
     "languageId": "r"
    }
   },
   "outputs": [
    {
     "data": {
      "text/html": [
       "<table class=\"dataframe\">\n",
       "<caption>A tibble: 38 × 6</caption>\n",
       "<thead>\n",
       "\t<tr><th scope=col>species</th><th scope=col>female</th><th scope=col>hermaphroditic</th><th scope=col>male</th><th scope=col>none</th><th scope=col>NA</th></tr>\n",
       "\t<tr><th scope=col>&lt;chr&gt;</th><th scope=col>&lt;dbl&gt;</th><th scope=col>&lt;dbl&gt;</th><th scope=col>&lt;dbl&gt;</th><th scope=col>&lt;dbl&gt;</th><th scope=col>&lt;dbl&gt;</th></tr>\n",
       "</thead>\n",
       "<tbody>\n",
       "\t<tr><td>Clawdite  </td><td>168.00</td><td>NA</td><td>      NA</td><td>NA</td><td>NA</td></tr>\n",
       "\t<tr><td>Human     </td><td>160.25</td><td>NA</td><td>182.3478</td><td>NA</td><td>NA</td></tr>\n",
       "\t<tr><td>Kaminoan  </td><td>213.00</td><td>NA</td><td>229.0000</td><td>NA</td><td>NA</td></tr>\n",
       "\t<tr><td>Mirialan  </td><td>168.00</td><td>NA</td><td>      NA</td><td>NA</td><td>NA</td></tr>\n",
       "\t<tr><td>Tholothian</td><td>184.00</td><td>NA</td><td>      NA</td><td>NA</td><td>NA</td></tr>\n",
       "\t<tr><td>...</td><td>...</td><td>...</td><td>...</td><td>...</td><td>...</td></tr>\n",
       "\t<tr><td>Xexto         </td><td>NA</td><td>NA</td><td>122</td><td>   NA</td><td>      NA</td></tr>\n",
       "\t<tr><td>Yoda's species</td><td>NA</td><td>NA</td><td> 66</td><td>   NA</td><td>      NA</td></tr>\n",
       "\t<tr><td>Zabrak        </td><td>NA</td><td>NA</td><td>173</td><td>   NA</td><td>      NA</td></tr>\n",
       "\t<tr><td>Droid         </td><td>NA</td><td>NA</td><td> NA</td><td>131.2</td><td>      NA</td></tr>\n",
       "\t<tr><td>NA            </td><td>NA</td><td>NA</td><td> NA</td><td>   NA</td><td>181.3333</td></tr>\n",
       "</tbody>\n",
       "</table>\n"
      ],
      "text/latex": [
       "A tibble: 38 × 6\n",
       "\\begin{tabular}{llllll}\n",
       " species & female & hermaphroditic & male & none & NA\\\\\n",
       " <chr> & <dbl> & <dbl> & <dbl> & <dbl> & <dbl>\\\\\n",
       "\\hline\n",
       "\t Clawdite   & 168.00 & NA &       NA & NA & NA\\\\\n",
       "\t Human      & 160.25 & NA & 182.3478 & NA & NA\\\\\n",
       "\t Kaminoan   & 213.00 & NA & 229.0000 & NA & NA\\\\\n",
       "\t Mirialan   & 168.00 & NA &       NA & NA & NA\\\\\n",
       "\t Tholothian & 184.00 & NA &       NA & NA & NA\\\\\n",
       "\t ... & ... & ... & ... & ... & ...\\\\\n",
       "\t Xexto          & NA & NA & 122 &    NA &       NA\\\\\n",
       "\t Yoda's species & NA & NA &  66 &    NA &       NA\\\\\n",
       "\t Zabrak         & NA & NA & 173 &    NA &       NA\\\\\n",
       "\t Droid          & NA & NA &  NA & 131.2 &       NA\\\\\n",
       "\t NA             & NA & NA &  NA &    NA & 181.3333\\\\\n",
       "\\end{tabular}\n"
      ],
      "text/markdown": [
       "\n",
       "A tibble: 38 × 6\n",
       "\n",
       "| species &lt;chr&gt; | female &lt;dbl&gt; | hermaphroditic &lt;dbl&gt; | male &lt;dbl&gt; | none &lt;dbl&gt; | NA &lt;dbl&gt; |\n",
       "|---|---|---|---|---|---|\n",
       "| Clawdite   | 168.00 | NA |       NA | NA | NA |\n",
       "| Human      | 160.25 | NA | 182.3478 | NA | NA |\n",
       "| Kaminoan   | 213.00 | NA | 229.0000 | NA | NA |\n",
       "| Mirialan   | 168.00 | NA |       NA | NA | NA |\n",
       "| Tholothian | 184.00 | NA |       NA | NA | NA |\n",
       "| ... | ... | ... | ... | ... | ... |\n",
       "| Xexto          | NA | NA | 122 |    NA |       NA |\n",
       "| Yoda's species | NA | NA |  66 |    NA |       NA |\n",
       "| Zabrak         | NA | NA | 173 |    NA |       NA |\n",
       "| Droid          | NA | NA |  NA | 131.2 |       NA |\n",
       "| NA             | NA | NA |  NA |    NA | 181.3333 |\n",
       "\n"
      ],
      "text/plain": [
       "    species        female hermaphroditic male     none  NA      \n",
       "1   Clawdite       168.00 NA                   NA NA    NA      \n",
       "2   Human          160.25 NA             182.3478 NA    NA      \n",
       "3   Kaminoan       213.00 NA             229.0000 NA    NA      \n",
       "4   Mirialan       168.00 NA                   NA NA    NA      \n",
       "5   Tholothian     184.00 NA                   NA NA    NA      \n",
       "... ...            ...    ...            ...      ...   ...     \n",
       "34  Xexto          NA     NA             122         NA       NA\n",
       "35  Yoda's species NA     NA              66         NA       NA\n",
       "36  Zabrak         NA     NA             173         NA       NA\n",
       "37  Droid          NA     NA              NA      131.2       NA\n",
       "38  NA             NA     NA              NA         NA 181.3333"
      ]
     },
     "metadata": {},
     "output_type": "display_data"
    }
   ],
   "source": [
    "pivot_wider(sex_summ, names_from=sex, values_from=avg_height)"
   ]
  },
  {
   "cell_type": "code",
   "execution_count": 34,
   "metadata": {
    "tags": [
     "remove-input"
    ],
    "vscode": {
     "languageId": "r"
    }
   },
   "outputs": [
    {
     "name": "stdout",
     "output_type": "stream",
     "text": [
      "\u001b[90m# A tibble: 38 x 6\u001b[39m\n",
      "   species    female hermaphroditic  male  none  `NA`\n",
      "   \u001b[3m\u001b[90m<chr>\u001b[39m\u001b[23m       \u001b[3m\u001b[90m<dbl>\u001b[39m\u001b[23m          \u001b[3m\u001b[90m<dbl>\u001b[39m\u001b[23m \u001b[3m\u001b[90m<dbl>\u001b[39m\u001b[23m \u001b[3m\u001b[90m<dbl>\u001b[39m\u001b[23m \u001b[3m\u001b[90m<dbl>\u001b[39m\u001b[23m\n",
      "\u001b[90m 1\u001b[39m Clawdite     168              \u001b[31mNA\u001b[39m   \u001b[31mNA\u001b[39m     \u001b[31mNA\u001b[39m    \u001b[31mNA\u001b[39m\n",
      "\u001b[90m 2\u001b[39m Human        160.             \u001b[31mNA\u001b[39m  182.    \u001b[31mNA\u001b[39m    \u001b[31mNA\u001b[39m\n",
      "\u001b[90m 3\u001b[39m Kaminoan     213              \u001b[31mNA\u001b[39m  229     \u001b[31mNA\u001b[39m    \u001b[31mNA\u001b[39m\n",
      "\u001b[90m 4\u001b[39m Mirialan     168              \u001b[31mNA\u001b[39m   \u001b[31mNA\u001b[39m     \u001b[31mNA\u001b[39m    \u001b[31mNA\u001b[39m\n",
      "\u001b[90m 5\u001b[39m Tholothian   184              \u001b[31mNA\u001b[39m   \u001b[31mNA\u001b[39m     \u001b[31mNA\u001b[39m    \u001b[31mNA\u001b[39m\n",
      "\u001b[90m 6\u001b[39m Togruta      178              \u001b[31mNA\u001b[39m   \u001b[31mNA\u001b[39m     \u001b[31mNA\u001b[39m    \u001b[31mNA\u001b[39m\n",
      "\u001b[90m 7\u001b[39m Twi'lek      178              \u001b[31mNA\u001b[39m  180     \u001b[31mNA\u001b[39m    \u001b[31mNA\u001b[39m\n",
      "\u001b[90m 8\u001b[39m Hutt          \u001b[31mNA\u001b[39m             175   \u001b[31mNA\u001b[39m     \u001b[31mNA\u001b[39m    \u001b[31mNA\u001b[39m\n",
      "\u001b[90m 9\u001b[39m Aleena        \u001b[31mNA\u001b[39m              \u001b[31mNA\u001b[39m   79     \u001b[31mNA\u001b[39m    \u001b[31mNA\u001b[39m\n",
      "\u001b[90m10\u001b[39m Besalisk      \u001b[31mNA\u001b[39m              \u001b[31mNA\u001b[39m  198     \u001b[31mNA\u001b[39m    \u001b[31mNA\u001b[39m\n",
      "\u001b[90m# i 28 more rows\u001b[39m\n"
     ]
    }
   ],
   "source": [
    "pivot_wider(sex_summ, names_from=sex, values_from=avg_height) |> print()"
   ]
  },
  {
   "cell_type": "markdown",
   "metadata": {},
   "source": [
    "As you can see, this results in several `NA`s. This highlights an important behaviour of `pivot_wider()` - missing combinations of `species` and `sex` are still included in the table, but the values are stored as `NA`, because there are no observations for these groups."
   ]
  },
  {
   "cell_type": "markdown",
   "metadata": {},
   "source": [
    "<br>\n",
    "\n",
    "### Check your Knowledge!\n",
    "\n",
    "Run the following code to generate the long-format data example from before. Then:\n",
    "\n",
    "1. Use `pivot_wider()` to reformat the dataframe into the [wide format example shown earlier](#wide-format-example).\n",
    "2. Use `mutate()` to calculate a difference score for each participant (as the response time in A minus the response time in B)."
   ]
  },
  {
   "cell_type": "code",
   "execution_count": 35,
   "metadata": {
    "vscode": {
     "languageId": "r"
    }
   },
   "outputs": [],
   "source": [
    "rts <- tibble(\n",
    "    id = rep(c(\"s01\", \"s02\", \"s03\", \"s04\"), each = 2),\n",
    "    condition = rep(c(\"A\", \"B\"), 4),\n",
    "    rt = c(240, 542, 300, 366, 264, 662, 312, 430)\n",
    ")"
   ]
  },
  {
   "cell_type": "markdown",
   "metadata": {},
   "source": [
    "<br>\n",
    "\n",
    "### `pivot_longer()`\n",
    "\n",
    "The `pivot_longer()` function lets us switch *from wide to long* data formats. As an example, we can start with these made-up data of means and medians from three conditions."
   ]
  },
  {
   "cell_type": "code",
   "execution_count": 36,
   "metadata": {
    "tags": [
     "remove-input",
     "remove-output"
    ],
    "vscode": {
     "languageId": "r"
    }
   },
   "outputs": [
    {
     "data": {
      "text/html": [
       "<table class=\"dataframe\">\n",
       "<caption>A tibble: 3 × 3</caption>\n",
       "<thead>\n",
       "\t<tr><th scope=col>cond</th><th scope=col>mean_rt</th><th scope=col>median_rt</th></tr>\n",
       "\t<tr><th scope=col>&lt;chr&gt;</th><th scope=col>&lt;dbl&gt;</th><th scope=col>&lt;dbl&gt;</th></tr>\n",
       "</thead>\n",
       "<tbody>\n",
       "\t<tr><td>A</td><td>475.63</td><td>422.13</td></tr>\n",
       "\t<tr><td>B</td><td>687.09</td><td>598.86</td></tr>\n",
       "\t<tr><td>C</td><td>347.40</td><td>314.78</td></tr>\n",
       "</tbody>\n",
       "</table>\n"
      ],
      "text/latex": [
       "A tibble: 3 × 3\n",
       "\\begin{tabular}{lll}\n",
       " cond & mean\\_rt & median\\_rt\\\\\n",
       " <chr> & <dbl> & <dbl>\\\\\n",
       "\\hline\n",
       "\t A & 475.63 & 422.13\\\\\n",
       "\t B & 687.09 & 598.86\\\\\n",
       "\t C & 347.40 & 314.78\\\\\n",
       "\\end{tabular}\n"
      ],
      "text/markdown": [
       "\n",
       "A tibble: 3 × 3\n",
       "\n",
       "| cond &lt;chr&gt; | mean_rt &lt;dbl&gt; | median_rt &lt;dbl&gt; |\n",
       "|---|---|---|\n",
       "| A | 475.63 | 422.13 |\n",
       "| B | 687.09 | 598.86 |\n",
       "| C | 347.40 | 314.78 |\n",
       "\n"
      ],
      "text/plain": [
       "  cond mean_rt median_rt\n",
       "1 A    475.63  422.13   \n",
       "2 B    687.09  598.86   \n",
       "3 C    347.40  314.78   "
      ]
     },
     "metadata": {},
     "output_type": "display_data"
    }
   ],
   "source": [
    "# simulate two conditions' RTs - cell hidden but kept as may need changing at some point\n",
    "N <- 1e6\n",
    "B0 <- 1\n",
    "Bb <- 0.5\n",
    "Bc <- -0.5\n",
    "e_sd <- 0.6\n",
    "ndt <- 150\n",
    "\n",
    "d <- tibble(cond = rep(c(\"A\", \"B\", \"C\"), each=N)) |>\n",
    "    mutate(\n",
    "        b_dum = cond==\"B\",\n",
    "        c_dum = cond==\"C\",\n",
    "        y = ndt + exp(\n",
    "            B0 + b_dum * Bb + c_dum * Bc +\n",
    "                rnorm(n(), 0, e_sd)\n",
    "        ) * 100\n",
    "    )\n",
    "\n",
    "summ <- d |>\n",
    "    group_by(cond) |>\n",
    "    summarise(mean_rt = mean(y), median_rt = median(y)) |>\n",
    "    mutate(mean_rt = round(mean_rt, 2), median_rt = round(median_rt, 2))\n",
    "\n",
    "summ"
   ]
  },
  {
   "cell_type": "code",
   "execution_count": 37,
   "metadata": {
    "vscode": {
     "languageId": "r"
    }
   },
   "outputs": [],
   "source": [
    "rt_summ <- tibble(\n",
    "    cond = c(\"A\", \"B\", \"C\"),\n",
    "    mean_rt = c(470.9, 686.30, 347.37),\n",
    "    median_rt = c(422.32, 597.9, 314.89)\n",
    ")"
   ]
  },
  {
   "cell_type": "markdown",
   "metadata": {},
   "source": [
    "These data show two different estimators of the average response time - the mean and median. Let's imagine that we want all the averages in one column, `estimate`, while a new column (`type`) will tell us what kind of average we have. We can use `pivot_longer()` to do this.\n",
    "\n",
    "The main two parameters of `pivot_longer()` are:\n",
    "* `cols` - the columns to pivot into long format\n",
    "* `names_to` - the name of the new column that should tell us what kind of average we have\n",
    "* `values_to` - the name of the new column that should give us the actual values"
   ]
  },
  {
   "cell_type": "code",
   "execution_count": 38,
   "metadata": {
    "tags": [
     "remove-output"
    ],
    "vscode": {
     "languageId": "r"
    }
   },
   "outputs": [
    {
     "data": {
      "text/html": [
       "<table class=\"dataframe\">\n",
       "<caption>A tibble: 6 × 3</caption>\n",
       "<thead>\n",
       "\t<tr><th scope=col>cond</th><th scope=col>type</th><th scope=col>estimate</th></tr>\n",
       "\t<tr><th scope=col>&lt;chr&gt;</th><th scope=col>&lt;chr&gt;</th><th scope=col>&lt;dbl&gt;</th></tr>\n",
       "</thead>\n",
       "<tbody>\n",
       "\t<tr><td>A</td><td>mean_rt  </td><td>470.90</td></tr>\n",
       "\t<tr><td>A</td><td>median_rt</td><td>422.32</td></tr>\n",
       "\t<tr><td>B</td><td>mean_rt  </td><td>686.30</td></tr>\n",
       "\t<tr><td>B</td><td>median_rt</td><td>597.90</td></tr>\n",
       "\t<tr><td>C</td><td>mean_rt  </td><td>347.37</td></tr>\n",
       "\t<tr><td>C</td><td>median_rt</td><td>314.89</td></tr>\n",
       "</tbody>\n",
       "</table>\n"
      ],
      "text/latex": [
       "A tibble: 6 × 3\n",
       "\\begin{tabular}{lll}\n",
       " cond & type & estimate\\\\\n",
       " <chr> & <chr> & <dbl>\\\\\n",
       "\\hline\n",
       "\t A & mean\\_rt   & 470.90\\\\\n",
       "\t A & median\\_rt & 422.32\\\\\n",
       "\t B & mean\\_rt   & 686.30\\\\\n",
       "\t B & median\\_rt & 597.90\\\\\n",
       "\t C & mean\\_rt   & 347.37\\\\\n",
       "\t C & median\\_rt & 314.89\\\\\n",
       "\\end{tabular}\n"
      ],
      "text/markdown": [
       "\n",
       "A tibble: 6 × 3\n",
       "\n",
       "| cond &lt;chr&gt; | type &lt;chr&gt; | estimate &lt;dbl&gt; |\n",
       "|---|---|---|\n",
       "| A | mean_rt   | 470.90 |\n",
       "| A | median_rt | 422.32 |\n",
       "| B | mean_rt   | 686.30 |\n",
       "| B | median_rt | 597.90 |\n",
       "| C | mean_rt   | 347.37 |\n",
       "| C | median_rt | 314.89 |\n",
       "\n"
      ],
      "text/plain": [
       "  cond type      estimate\n",
       "1 A    mean_rt   470.90  \n",
       "2 A    median_rt 422.32  \n",
       "3 B    mean_rt   686.30  \n",
       "4 B    median_rt 597.90  \n",
       "5 C    mean_rt   347.37  \n",
       "6 C    median_rt 314.89  "
      ]
     },
     "metadata": {},
     "output_type": "display_data"
    }
   ],
   "source": [
    "pivot_longer(rt_summ, cols=c(mean_rt, median_rt), names_to=\"type\", values_to=\"estimate\")"
   ]
  },
  {
   "cell_type": "code",
   "execution_count": 39,
   "metadata": {
    "tags": [
     "remove-input"
    ],
    "vscode": {
     "languageId": "r"
    }
   },
   "outputs": [
    {
     "data": {
      "text/html": [
       "<table class=\"dataframe\">\n",
       "<caption>A tibble: 6 × 3</caption>\n",
       "<thead>\n",
       "\t<tr><th scope=col>cond</th><th scope=col>type</th><th scope=col>estimate</th></tr>\n",
       "\t<tr><th scope=col>&lt;chr&gt;</th><th scope=col>&lt;chr&gt;</th><th scope=col>&lt;dbl&gt;</th></tr>\n",
       "</thead>\n",
       "<tbody>\n",
       "\t<tr><td>A</td><td>mean_rt  </td><td>470.90</td></tr>\n",
       "\t<tr><td>A</td><td>median_rt</td><td>422.32</td></tr>\n",
       "\t<tr><td>B</td><td>mean_rt  </td><td>686.30</td></tr>\n",
       "\t<tr><td>B</td><td>median_rt</td><td>597.90</td></tr>\n",
       "\t<tr><td>C</td><td>mean_rt  </td><td>347.37</td></tr>\n",
       "\t<tr><td>C</td><td>median_rt</td><td>314.89</td></tr>\n",
       "</tbody>\n",
       "</table>\n"
      ],
      "text/latex": [
       "A tibble: 6 × 3\n",
       "\\begin{tabular}{lll}\n",
       " cond & type & estimate\\\\\n",
       " <chr> & <chr> & <dbl>\\\\\n",
       "\\hline\n",
       "\t A & mean\\_rt   & 470.90\\\\\n",
       "\t A & median\\_rt & 422.32\\\\\n",
       "\t B & mean\\_rt   & 686.30\\\\\n",
       "\t B & median\\_rt & 597.90\\\\\n",
       "\t C & mean\\_rt   & 347.37\\\\\n",
       "\t C & median\\_rt & 314.89\\\\\n",
       "\\end{tabular}\n"
      ],
      "text/markdown": [
       "\n",
       "A tibble: 6 × 3\n",
       "\n",
       "| cond &lt;chr&gt; | type &lt;chr&gt; | estimate &lt;dbl&gt; |\n",
       "|---|---|---|\n",
       "| A | mean_rt   | 470.90 |\n",
       "| A | median_rt | 422.32 |\n",
       "| B | mean_rt   | 686.30 |\n",
       "| B | median_rt | 597.90 |\n",
       "| C | mean_rt   | 347.37 |\n",
       "| C | median_rt | 314.89 |\n",
       "\n"
      ],
      "text/plain": [
       "  cond type      estimate\n",
       "1 A    mean_rt   470.90  \n",
       "2 A    median_rt 422.32  \n",
       "3 B    mean_rt   686.30  \n",
       "4 B    median_rt 597.90  \n",
       "5 C    mean_rt   347.37  \n",
       "6 C    median_rt 314.89  "
      ]
     },
     "metadata": {},
     "output_type": "display_data"
    }
   ],
   "source": [
    "pivot_longer(rt_summ, cols=c(mean_rt, median_rt), names_to=\"type\", values_to=\"estimate\")"
   ]
  },
  {
   "cell_type": "markdown",
   "metadata": {},
   "source": [
    "<br>\n",
    "\n",
    "### Check your Knowledge!\n",
    "\n",
    "Starting with the dataframe below:\n",
    "1. Use `pivot_longer()` to reformat the dataframe into the [long format example shown earlier](long-format-example).\n",
    "2. Use `group_by()` and `summarise()` to calculate each participant's overall average (across both conditions)."
   ]
  },
  {
   "cell_type": "code",
   "execution_count": 40,
   "metadata": {
    "vscode": {
     "languageId": "r"
    }
   },
   "outputs": [],
   "source": [
    "rt_wide <- data.frame(\n",
    "    id = c(\"s01\", \"s02\", \"s03\", \"s04\"),\n",
    "    A = c(240, 300, 264, 312),\n",
    "    B = c(542, 366, 662, 430)\n",
    ")"
   ]
  },
  {
   "cell_type": "markdown",
   "metadata": {},
   "source": [
    "<br>\n",
    "\n",
    "---\n",
    "\n",
    "## Bonus: Discussion of Tidyverse\n",
    "\n",
    "One of the advantages of using `tidyverse` packages like `dplyr` and `tidyr` is that they are arguably more readable. For instance, consider this example code using pipes from earlier in this chapter:"
   ]
  },
  {
   "cell_type": "code",
   "execution_count": 41,
   "metadata": {
    "vscode": {
     "languageId": "r"
    }
   },
   "outputs": [],
   "source": [
    "final_data <- starwars |>\n",
    "    filter(homeworld != \"Alderaan\") |>\n",
    "    mutate(height_inches = height/2.54) |>\n",
    "    select(name, height, height_inches) |>\n",
    "    arrange(height)"
   ]
  },
  {
   "cell_type": "markdown",
   "metadata": {},
   "source": [
    "Here is how we would have to write this in base R:"
   ]
  },
  {
   "cell_type": "code",
   "execution_count": 42,
   "metadata": {
    "vscode": {
     "languageId": "r"
    }
   },
   "outputs": [],
   "source": [
    "final_data <- starwars\n",
    "final_data <- final_data[final_data$homeworld != \"Alderaan\", ]\n",
    "final_data$height_inches <- final_data$height / 2.54\n",
    "final_data <- final_data[, c(\"name\", \"height\", \"height_inches\")]\n",
    "final_data <- final_data[order(final_data$height), ]"
   ]
  },
  {
   "cell_type": "markdown",
   "metadata": {},
   "source": [
    "Despite the advantage in readability, the `tidyverse` approach is also often criticised for issues like ambiguity. For example, `tidyverse` code can be inherently ambiguous when read by a human. Should the values for the new column come from the variable we created called `height`, or from the existing column in the `starwars` dataframe, which is also called `height`?"
   ]
  },
  {
   "cell_type": "code",
   "execution_count": 43,
   "metadata": {
    "vscode": {
     "languageId": "r"
    }
   },
   "outputs": [],
   "source": [
    "height <- c(4, 4, 3, 1, 2, 6, 1, 3, 8, 9, 8, 1,\n",
    "7, 2, 1, 9, 8, 1, 8, 3, 7, 3, 5, 6, 9, 8, 6, 1,\n",
    "3, 2, 1, 9, 6, 8, 8, 1, 2, 9, 5, 4, 1, 3, 9, 3,\n",
    "6, 1, 7, 4, 9, 8, 7, 5, 6, 3, 1, 5, 9, 3, 9, 4,\n",
    "4, 7, 8, 6, 4, 5, 6, 3, 2, 9, 1, 7, 1, 6, 4, 6,\n",
    "9, 6, 4, 5, 9, 5, 5, 4, 2, 3, 4)\n",
    "\n",
    "new_data <- mutate(starwars, new_column = height)"
   ]
  },
  {
   "cell_type": "markdown",
   "metadata": {},
   "source": [
    "As it happens, `dplyr` will check the current dataframe for variables first, and then check variables in the environment, so that the new column's values will be identical to `starwars$height`. The base R example from earlier doesn't suffer from this problem because whenever we refer to variables in the dataframe, we are explicit with `$` and `[]`.\n",
    "\n",
    "If you interested in reading more, Norman Matloff has shared a well considered criticism of the `tidyverse` approach here: https://github.com/matloff/TidyverseSkeptic\n",
    "\n",
    "You can always use personal preference when writing code. I would argue that `dplyr` and `tidyr` provide convenient and readable code for data wrangling. However, it's also important to recognise the shortcomings of the `tidyverse` approach. Learning base R, *as well* as the tidier approaches, can set you up with a much stronger understanding of R, and provide skills that transfer well to other programming languages that are becoming increasingly relevant in Psychology (e.g., `python`)."
   ]
  }
 ],
 "metadata": {
  "kernelspec": {
   "display_name": "R",
   "language": "R",
   "name": "ir"
  },
  "language_info": {
   "codemirror_mode": "r",
   "file_extension": ".r",
   "mimetype": "text/x-r-source",
   "name": "R",
   "pygments_lexer": "r",
   "version": "4.1.3"
  }
 },
 "nbformat": 4,
 "nbformat_minor": 5
}
