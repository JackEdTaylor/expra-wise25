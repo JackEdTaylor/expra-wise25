{
 "cells": [
  {
   "cell_type": "markdown",
   "id": "34e9fb44",
   "metadata": {},
   "source": [
    "# The General Linear Model\n",
    "\n",
    "You've probably heard it said before that statistics is mostly linear models. At first, this probably sounds quite arcane! In this session, we'll go through some examples to hopefully convince you that this is true."
   ]
  },
  {
   "cell_type": "markdown",
   "id": "380dafe6",
   "metadata": {},
   "source": [
    "## Slides\n",
    "\n",
    "<iframe src=\"https://docs.google.com/presentation/d/e/2PACX-1vSqkQF9OXaejYeNaQe3Fv9j2hvXD3YVHJEX2mQoejVqfA9jDO2Nj1-McrLs33b9fQTsr1Jkf9EdU0WY/embed?start=false&loop=false\" frameborder=\"0\" width=\"960\" height=\"569\" allowfullscreen=\"true\" mozallowfullscreen=\"true\" webkitallowfullscreen=\"true\"></iframe>\n",
    "\n",
    "<h5>\n",
    "<a href=https://docs.google.com/presentation/d/1PdzFo3SDVRNqae6uFlSb5_vZ-txn6cmtGKLFSh73HfU/export/pdf><i class=\"fa-solid fa-file-pdf\"></i> Download .pdf</a>\n",
    "&nbsp;\n",
    "<a href=https://docs.google.com/presentation/d/1PdzFo3SDVRNqae6uFlSb5_vZ-txn6cmtGKLFSh73HfU/export/odp><i class=\"fa-solid fa-file\"></i> Download .odp</a>\n",
    "&nbsp;\n",
    "<a href=https://docs.google.com/presentation/d/1PdzFo3SDVRNqae6uFlSb5_vZ-txn6cmtGKLFSh73HfU/export/pptx><i class=\"fa-solid fa-file-powerpoint\"></i> Download .pptx</a>\n",
    "</h5>"
   ]
  },
  {
   "cell_type": "markdown",
   "id": "c8f7941f",
   "metadata": {},
   "source": [
    "## Try it Out!\n",
    "\n",
    "Here are some examples you can run interactively, showing that several kinds of model are just variants of the linear models."
   ]
  },
  {
   "cell_type": "code",
   "execution_count": 1,
   "id": "84920e04",
   "metadata": {
    "tags": [
     "remove-input"
    ],
    "vscode": {
     "languageId": "r"
    }
   },
   "outputs": [],
   "source": [
    "# plot sizes\n",
    "options(repr.plot.width=5, repr.plot.height=3)\n",
    "\n",
    "# prevent conflicts printing later\n",
    "suppressPackageStartupMessages(library(dplyr))"
   ]
  },
  {
   "cell_type": "code",
   "execution_count": 2,
   "id": "1afb4c5f",
   "metadata": {
    "tags": [],
    "vscode": {
     "languageId": "r"
    }
   },
   "outputs": [
    {
     "name": "stderr",
     "output_type": "stream",
     "text": [
      "\n",
      "Attaching package: 'dplyr'\n",
      "\n",
      "\n",
      "The following objects are masked from 'package:stats':\n",
      "\n",
      "    filter, lag\n",
      "\n",
      "\n",
      "The following objects are masked from 'package:base':\n",
      "\n",
      "    intersect, setdiff, setequal, union\n",
      "\n",
      "\n"
     ]
    }
   ],
   "source": [
    "# load libraries used in the examples\n",
    "library(tibble)\n",
    "library(dplyr)\n",
    "library(ggplot2)\n",
    "\n",
    "# set the ggplot2 theme\n",
    "theme_set(theme_classic())\n",
    "\n",
    "# set a seed for reproducibility\n",
    "set.seed(1)"
   ]
  },
  {
   "cell_type": "markdown",
   "id": "49a07203",
   "metadata": {},
   "source": [
    "### 1. t-tests\n",
    "\n",
    "In this example, we generate distributions of heights for two groups. Each group has $N=30$ observations.\n",
    "\n",
    "We've set the group averages to be $\\mu_A = 180$ and $\\mu_B = 175$, with an equal standard deviation of $\\sigma = 6.4$"
   ]
  },
  {
   "cell_type": "code",
   "execution_count": 3,
   "id": "9ac4ac7d",
   "metadata": {
    "vscode": {
     "languageId": "r"
    }
   },
   "outputs": [
    {
     "data": {
      "image/png": "[encoded data removed]",
      "text/plain": [
       "plot without title"
      ]
     },
     "metadata": {
      "image/png": {
       "height": 180,
       "width": 300
      }
     },
     "output_type": "display_data"
    }
   ],
   "source": [
    "N1 <- 30  # number of observations per group\n",
    "\n",
    "# generate the two groups\n",
    "dat1 <- tibble(\n",
    "    group = rep(c(\"A\", \"B\"), each=N1),\n",
    "    height = c(rnorm(N1, 180, 6.4), rnorm(N1, 175, 6.4))\n",
    ")\n",
    "\n",
    "# plot all observations, with horizontal lines at means\n",
    "ggplot(dat1, aes(group, height)) +\n",
    "    geom_jitter(width=0.1) +\n",
    "    stat_summary(\n",
    "        fun=mean, fun.min=mean, fun.max=mean,\n",
    "        geom=\"crossbar\"\n",
    "    )"
   ]
  },
  {
   "cell_type": "markdown",
   "id": "6c0556f4",
   "metadata": {},
   "source": [
    "If we were to perform a *t*-test on these data, we would get *t*(58)=4, *p*<.001"
   ]
  },
  {
   "cell_type": "code",
   "execution_count": 4,
   "id": "85860aea",
   "metadata": {
    "vscode": {
     "languageId": "r"
    }
   },
   "outputs": [
    {
     "data": {
      "text/plain": [
       "\n",
       "\tTwo Sample t-test\n",
       "\n",
       "data:  height by group\n",
       "t = 3.2836, df = 58, p-value = 0.00174\n",
       "alternative hypothesis: true difference in means between group A and group B is not equal to 0\n",
       "95 percent confidence interval:\n",
       " 1.826236 7.529714\n",
       "sample estimates:\n",
       "mean in group A mean in group B \n",
       "       180.5277        175.8498 \n"
      ]
     },
     "metadata": {},
     "output_type": "display_data"
    }
   ],
   "source": [
    "t1 <- t.test(height ~ group, data=dat1, var.equal=TRUE)\n",
    "t1"
   ]
  },
  {
   "cell_type": "markdown",
   "id": "d0209863",
   "metadata": {},
   "source": [
    "(side note: we have to set `var.equal=TRUE`, as R will by default use a Welch's *t*-test unless we tell it not to)\n",
    "\n",
    "Another way of representing the same information would be as a simple linear model (the `lm()` function in R). This gives us the result of a mean difference of $B_1$=-4.68 (*SE*=1.43, *p*<.001). Note that the *t* and *p* values are identical to those in the *t*-test above!"
   ]
  },
  {
   "cell_type": "code",
   "execution_count": 5,
   "id": "7a2813cb",
   "metadata": {
    "vscode": {
     "languageId": "r"
    }
   },
   "outputs": [
    {
     "data": {
      "text/plain": [
       "\n",
       "Call:\n",
       "lm(formula = height ~ group, data = dat1)\n",
       "\n",
       "Residuals:\n",
       "     Min       1Q   Median       3Q      Max \n",
       "-14.7018  -3.4063   0.2985   3.7167  11.8248 \n",
       "\n",
       "Coefficients:\n",
       "            Estimate Std. Error t value Pr(>|t|)    \n",
       "(Intercept)  180.528      1.007 179.206  < 2e-16 ***\n",
       "groupB        -4.678      1.425  -3.284  0.00174 ** \n",
       "---\n",
       "Signif. codes:  0 '***' 0.001 '**' 0.01 '*' 0.05 '.' 0.1 ' ' 1\n",
       "\n",
       "Residual standard error: 5.518 on 58 degrees of freedom\n",
       "Multiple R-squared:  0.1568,\tAdjusted R-squared:  0.1422 \n",
       "F-statistic: 10.78 on 1 and 58 DF,  p-value: 0.00174\n"
      ]
     },
     "metadata": {},
     "output_type": "display_data"
    }
   ],
   "source": [
    "mod1 <- lm(height ~ group, data=dat1)\n",
    "summary(mod1)"
   ]
  },
  {
   "cell_type": "markdown",
   "id": "e0a79df3",
   "metadata": {},
   "source": [
    "### 2. ANOVAs\n",
    "\n",
    "We can apply the same linear-model logic to ANOVAs.\n",
    "\n",
    "Here we simulate reading scores for a 2 (age group) x 2 (reading ability group) design."
   ]
  },
  {
   "cell_type": "code",
   "execution_count": 6,
   "id": "1b307fb2",
   "metadata": {
    "vscode": {
     "languageId": "r"
    }
   },
   "outputs": [
    {
     "data": {
      "image/png": "[encoded data removed]",
      "text/plain": [
       "plot without title"
      ]
     },
     "metadata": {
      "image/png": {
       "height": 180,
       "width": 300
      }
     },
     "output_type": "display_data"
    }
   ],
   "source": [
    "N2 <- 30  # number of observations per group\n",
    "\n",
    "# generate the two groups\n",
    "dat2 <- tibble(\n",
    "    age_group = rep(c(\"young\", \"old\", \"young\", \"old\"), each=N2),\n",
    "    reading_group = rep(c(\"low\", \"low\", \"high\", \"high\"), each=N2),\n",
    "    score = c(\n",
    "        rnorm(N2, 70, 5),\n",
    "        rnorm(N2, 98, 5),\n",
    "        rnorm(N2, 85, 5),\n",
    "        rnorm(N2, 100, 5)\n",
    "    )\n",
    ")\n",
    "\n",
    "# plot all observations, with horizontal lines at means\n",
    "ggplot(dat2, aes(reading_group, score)) +\n",
    "    geom_jitter(width=0.1) +\n",
    "    stat_summary(\n",
    "        fun=mean, fun.min=mean, fun.max=mean,\n",
    "        geom=\"crossbar\"\n",
    "    ) +\n",
    "    facet_wrap(vars(age_group))"
   ]
  },
  {
   "cell_type": "markdown",
   "id": "54418407",
   "metadata": {},
   "source": [
    "We could analyse this with an ANOVA. We might report the main effects and interaction as:\n",
    "\n",
    "*There was a main effect of age (F(1, 116)=688.02, p<.001), with scores higher in the old age group than in the young age group. There was also a main effect of reading group, with scores higher in the high reading group (F(1, 116)=77.79, p<.001). Finally, there was an interaction between age group and reading group, where the effect of reading group was smaller in the older age group than in the younger age group (F(1, 116)=33.92, p<.001).*"
   ]
  },
  {
   "cell_type": "code",
   "execution_count": 7,
   "id": "39bdcfa9",
   "metadata": {
    "vscode": {
     "languageId": "r"
    }
   },
   "outputs": [
    {
     "data": {
      "text/plain": [
       "                         Df Sum Sq Mean Sq F value   Pr(>F)    \n",
       "age_group                 1  15806   15806  707.00  < 2e-16 ***\n",
       "reading_group             1   1868    1868   83.54 2.45e-15 ***\n",
       "age_group:reading_group   1    927     927   41.46 2.83e-09 ***\n",
       "Residuals               116   2593      22                     \n",
       "---\n",
       "Signif. codes:  0 '***' 0.001 '**' 0.01 '*' 0.05 '.' 0.1 ' ' 1"
      ]
     },
     "metadata": {},
     "output_type": "display_data"
    }
   ],
   "source": [
    "anova2 <- aov(score ~ age_group * reading_group, data=dat2)\n",
    "summary(anova2)"
   ]
  },
  {
   "cell_type": "markdown",
   "id": "7a31c6f3",
   "metadata": {},
   "source": [
    "We could represent the same information as a linear model.\n",
    "\n",
    "**Note:** For comparability to `aov()`, we first use a simple coding scheme, where each variable is centred on 0, with values of -0.5 and 0.5 at each extreme. (See slide 60 onwards for a visualisation of this method). By using this method, we estimate the *main effects* for age, reading group, and the interaction. If we didn't do this step, we would only be estimating simple effects."
   ]
  },
  {
   "cell_type": "code",
   "execution_count": 8,
   "id": "37fc13d9",
   "metadata": {
    "vscode": {
     "languageId": "r"
    }
   },
   "outputs": [
    {
     "data": {
      "text/plain": [
       "\n",
       "Call:\n",
       "lm(formula = score ~ age_num * reading_num, data = dat2)\n",
       "\n",
       "Residuals:\n",
       "    Min      1Q  Median      3Q     Max \n",
       "-9.0855 -3.0319 -0.1937  2.9974 11.9266 \n",
       "\n",
       "Coefficients:\n",
       "                    Estimate Std. Error t value Pr(>|t|)    \n",
       "(Intercept)          88.2619     0.4316 204.483  < 2e-16 ***\n",
       "age_num             -22.9538     0.8633 -26.589  < 2e-16 ***\n",
       "reading_num           7.8903     0.8633   9.140 2.45e-15 ***\n",
       "age_num:reading_num  11.1165     1.7265   6.439 2.83e-09 ***\n",
       "---\n",
       "Signif. codes:  0 '***' 0.001 '**' 0.01 '*' 0.05 '.' 0.1 ' ' 1\n",
       "\n",
       "Residual standard error: 4.728 on 116 degrees of freedom\n",
       "Multiple R-squared:  0.8776,\tAdjusted R-squared:  0.8745 \n",
       "F-statistic: 277.3 on 3 and 116 DF,  p-value: < 2.2e-16\n"
      ]
     },
     "metadata": {},
     "output_type": "display_data"
    }
   ],
   "source": [
    "# code the categorical variables numerically\n",
    "dat2 <- dat2 |>\n",
    "    mutate(\n",
    "        age_num = ifelse(age_group==\"old\", -0.5, 0.5),\n",
    "        reading_num = ifelse(reading_group==\"low\", -0.5, 0.5)\n",
    "    )\n",
    "\n",
    "mod2 <- lm(score ~ age_num * reading_num, data=dat2)\n",
    "summary(mod2)"
   ]
  },
  {
   "cell_type": "markdown",
   "id": "facf273b",
   "metadata": {},
   "source": [
    "Note that, again, get the same *p* values. Rather than *F* values, we get *t* values. However, we can easily calculate the *F* values as $F=t^2$. For example, we can calculate the *F* value for the effect of reading group as..."
   ]
  },
  {
   "cell_type": "code",
   "execution_count": 9,
   "id": "888432b2",
   "metadata": {
    "vscode": {
     "languageId": "r"
    }
   },
   "outputs": [
    {
     "data": {
      "text/html": [
       "83.5396"
      ],
      "text/latex": [
       "83.5396"
      ],
      "text/markdown": [
       "83.5396"
      ],
      "text/plain": [
       "[1] 83.5396"
      ]
     },
     "metadata": {},
     "output_type": "display_data"
    }
   ],
   "source": [
    "9.14 ** 2"
   ]
  },
  {
   "cell_type": "markdown",
   "id": "f7d7d394",
   "metadata": {},
   "source": [
    "### 3. Test your Understanding!\n",
    "\n",
    "**1)** Change the first visualisation to show the linear model being fit to the two groups, A and B. (See slides 27-30 for an example plot).\n",
    "\n",
    "**2)** Use the `pt()` function to replicate the *p* values in the `mod1` and `mod2` summaries. (See slide 40 for an example).\n",
    "\n",
    "**3) Possibly tricky:** Try to calculate the simple effect of age in the high and low reading groups separately. Slides 60-65 may help you."
   ]
  },
  {
   "cell_type": "code",
   "execution_count": 10,
   "id": "6a982889",
   "metadata": {
    "vscode": {
     "languageId": "r"
    }
   },
   "outputs": [],
   "source": [
    "# your code here..."
   ]
  }
 ],
 "metadata": {
  "kernelspec": {
   "display_name": "R",
   "language": "R",
   "name": "ir"
  },
  "language_info": {
   "codemirror_mode": "r",
   "file_extension": ".r",
   "mimetype": "text/x-r-source",
   "name": "R",
   "pygments_lexer": "r",
   "version": "4.1.3"
  }
 },
 "nbformat": 4,
 "nbformat_minor": 5
}
